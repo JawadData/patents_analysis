{
 "cells": [
  {
   "cell_type": "markdown",
   "id": "ecee402b",
   "metadata": {},
   "source": [
    "# Analyse des brevets de Wipo"
   ]
  },
  {
   "cell_type": "code",
   "execution_count": null,
   "id": "fb536356",
   "metadata": {},
   "outputs": [],
   "source": [
    "import pyspark\n",
    "from pyspark import SparkContext\n",
    "from pyspark.sql import SparkSession\n",
    "from pyspark.sql import SQLContext\n",
    "from pyspark.sql.functions import col, to_date, year\n",
    "from pyspark.sql.functions import split, array_distinct, concat_ws\n",
    "\n",
    "\n",
    "spark = SparkSession.builder \\\n",
    "    .appName(\"wipo_patent\") \\\n",
    "    .config(\"spark.jars.packages\", \"org.mongodb.spark:mongo-spark-connector_2.12:3.0.0\") \\\n",
    "    .getOrCreate()\n",
    "\n",
    "mongo_ip = \"mongodb://127.0.0.1:27017/\"\n",
    "db_name = \"big_data_project\" \n",
    "collection_name = \"wipo_nv\"  \n",
    "\n",
    "df = spark.read.format(\"com.mongodb.spark.sql.DefaultSource\") \\\n",
    "    .option(\"uri\", \"mongodb://127.0.0.1:27017/big_data_project.wipo_nv\") \\\n",
    "    .load()\n",
    "\n",
    "\n",
    "df.printSchema()\n"
   ]
  },
  {
   "cell_type": "code",
   "execution_count": null,
   "id": "7070687c",
   "metadata": {},
   "outputs": [],
   "source": [
    "df.createOrReplaceTempView(\"patents_data\")  \n",
    "spark.sql(\"SELECT DISTINCT Publication_Kind FROM patents_data\").show()"
   ]
  },
  {
   "cell_type": "markdown",
   "id": "a24e0806",
   "metadata": {},
   "source": [
    "# Nombre de brevets par bureau"
   ]
  },
  {
   "cell_type": "code",
   "execution_count": null,
   "id": "f51ecedd",
   "metadata": {},
   "outputs": [],
   "source": [
    "from pyspark.sql import functions as F\n",
    "\n",
    "df.createOrReplaceTempView(\"patents_data\")  \n",
    "office_counts = spark.sql(\"\"\"\n",
    "    SELECT Office, COUNT(*) AS Occurrences\n",
    "    FROM patents_data\n",
    "    WHERE Office IS NOT NULL AND Office != 'NaN' \n",
    "    GROUP BY Office\n",
    "    ORDER BY Occurrences DESC\n",
    "\"\"\")\n",
    "\n",
    "office_counts.show()"
   ]
  },
  {
   "cell_type": "code",
   "execution_count": null,
   "id": "ab4add01",
   "metadata": {},
   "outputs": [],
   "source": [
    "df_pd = office_counts.toPandas()\n",
    "\n",
    "df_pd_top = df_pd.head(10)\n",
    "\n",
    "plt.figure(figsize=(10, 6))\n",
    "plt.barh(df_pd_top[\"Office\"], df_pd_top[\"Occurrences\"], color='skyblue')\n",
    "plt.xlabel('Occurrences')\n",
    "plt.ylabel('Office')\n",
    "plt.title('Top 10 Offices by Occurrences')\n",
    "plt.gca().invert_yaxis()  \n",
    "plt.show()"
   ]
  },
  {
   "cell_type": "markdown",
   "id": "7de23dc4",
   "metadata": {},
   "source": [
    "# Nombre de brevets par type de publication"
   ]
  },
  {
   "cell_type": "code",
   "execution_count": null,
   "id": "769cf838",
   "metadata": {},
   "outputs": [],
   "source": [
    "patents_by_publication_kind = df.groupBy(\"Publication_Kind\").count().orderBy(\"count\", ascending=False)\n",
    "patents_by_publication_kind.show()\n"
   ]
  },
  {
   "cell_type": "markdown",
   "id": "89509c9e",
   "metadata": {},
   "source": [
    "# Nombre de brevets par demandeur"
   ]
  },
  {
   "cell_type": "code",
   "execution_count": null,
   "id": "792ed1b7",
   "metadata": {},
   "outputs": [],
   "source": [
    "patents_by_applicant = df.groupBy(\"Applicants\").count().orderBy(\"count\", ascending=False)\n",
    "patents_by_applicant.show()\n"
   ]
  },
  {
   "cell_type": "markdown",
   "id": "a238c862",
   "metadata": {},
   "source": [
    "# Nombre de brevets par agent"
   ]
  },
  {
   "cell_type": "code",
   "execution_count": null,
   "id": "099f0047",
   "metadata": {},
   "outputs": [],
   "source": [
    "patents_by_agent = df.groupBy(\"Agents\").count().orderBy(\"count\", ascending=False)\n",
    "patents_by_agent.show()\n"
   ]
  },
  {
   "cell_type": "code",
   "execution_count": null,
   "id": "2dbf4c61",
   "metadata": {},
   "outputs": [],
   "source": [
    "import matplotlib.pyplot as plt\n",
    "import pandas as pd\n",
    "import pyspark.sql.functions as F\n",
    "\n",
    "result = spark.sql(\"\"\"\n",
    "    SELECT \n",
    "        CASE \n",
    "            WHEN Publication_Kind LIKE 'A%' THEN 'A%'\n",
    "            WHEN Publication_Kind LIKE 'B%' THEN 'B%'\n",
    "            WHEN Publication_Kind LIKE 'C%' THEN 'C%'\n",
    "            ELSE 'NAN'\n",
    "        END AS Publication_Group,\n",
    "        COUNT(*) AS Count\n",
    "    FROM patents_data \n",
    "    GROUP BY \n",
    "        CASE \n",
    "            WHEN Publication_Kind LIKE 'A%' THEN 'A%'\n",
    "            WHEN Publication_Kind LIKE 'B%' THEN 'B%'\n",
    "            WHEN Publication_Kind LIKE 'C%' THEN 'C%'\n",
    "            ELSE 'NAN'\n",
    "        END\n",
    "\"\"\")\n",
    "\n",
    "result.show()\n",
    "\n"
   ]
  },
  {
   "cell_type": "code",
   "execution_count": null,
   "id": "382f6b25",
   "metadata": {},
   "outputs": [],
   "source": [
    "df_P = result.toPandas()\n",
    "colors = {'A%': 'lightblue', 'B%': 'lightgreen', 'C%': 'lightcoral', 'NAN': 'lightgray'}\n",
    "\n",
    "plt.pie(df_P[\"Count\"], labels=None, colors=[colors[group] for group in df_P[\"Publication_Group\"]], autopct='%1.1f%%', startangle=140)\n",
    "\n",
    "plt.legend(labels=['Second publication level', 'Third publication level', 'NAN', 'First publication level'], loc='upper right', bbox_to_anchor=(1.25, 1))\n",
    "\n",
    "plt.title(\"Number of Patents in Each Level, in percentages\")\n",
    "\n",
    "plt.text(-1.5, 1.5, \"Levels A, B, and C belong to Group 1: Used for documents resulting from a patent application and being identified as the primary or major series.\", fontsize=10, wrap=True)\n",
    "\n",
    "plt.axis('equal')  \n",
    "plt.show()"
   ]
  },
  {
   "cell_type": "markdown",
   "id": "a4f1fb24",
   "metadata": {},
   "source": [
    "## Analyse des Inventeurs les Plus Fréquents "
   ]
  },
  {
   "cell_type": "code",
   "execution_count": null,
   "id": "dcdfafc4",
   "metadata": {},
   "outputs": [],
   "source": [
    "\n",
    "from pyspark.sql import functions as F\n",
    "\n",
    "\n",
    "inventor_counts = spark.sql(\"\"\"\n",
    "    SELECT Inventors, COUNT(*) AS Occurrences\n",
    "    FROM patents_data\n",
    "    WHERE Inventors IS NOT NULL AND Inventors != 'NaN'  -- Exclure les valeurs NaN\n",
    "    GROUP BY Inventors\n",
    "    ORDER BY Occurrences DESC\n",
    "\"\"\")\n",
    "\n",
    "inventor_counts.show(5)\n"
   ]
  },
  {
   "cell_type": "code",
   "execution_count": 26,
   "id": "8c7f7558",
   "metadata": {},
   "outputs": [],
   "source": [
    "df_pd = df.toPandas()"
   ]
  },
  {
   "cell_type": "code",
   "execution_count": 27,
   "id": "d1273c71",
   "metadata": {},
   "outputs": [],
   "source": [
    "df_pd['English_Text'] = df_pd['English_Text'].str.replace(r'\\(EN\\)', '', regex=True)\n",
    "\n",
    "df_pd['English_Text'] = df_pd['English_Text'].str.replace(r'[^a-zA-Z0-9\\s]', '', regex=True)"
   ]
  },
  {
   "cell_type": "code",
   "execution_count": 28,
   "id": "1b4113fb",
   "metadata": {},
   "outputs": [],
   "source": [
    "df_pd['Abstract_english'] = df_pd['Abstract_english'].str.replace(r'[^a-zA-Z0-9\\s]', '', regex=True)"
   ]
  },
  {
   "cell_type": "code",
   "execution_count": 29,
   "id": "a535b6ca",
   "metadata": {},
   "outputs": [],
   "source": [
    "df_pd['Abstract_english'] = df_pd['Abstract_english'].str.lower()\n",
    "df_pd['English_Text'] = df_pd['English_Text'].str.lower()"
   ]
  },
  {
   "cell_type": "code",
   "execution_count": null,
   "id": "e65a4525",
   "metadata": {},
   "outputs": [],
   "source": [
    "df_pd.head(2)"
   ]
  },
  {
   "cell_type": "code",
   "execution_count": null,
   "id": "b740ef88",
   "metadata": {},
   "outputs": [],
   "source": [
    "import nltk\n",
    "nltk.download('punkt')\n",
    "nltk.download('stopwords')\n"
   ]
  },
  {
   "cell_type": "code",
   "execution_count": 53,
   "id": "a67973ed",
   "metadata": {
    "scrolled": true
   },
   "outputs": [],
   "source": [
    "import pandas as pd\n",
    "from nltk.tokenize import word_tokenize\n",
    "from nltk.corpus import stopwords\n",
    "import string\n",
    "\n",
    "def process_abstract(abstract):\n",
    "    tokens = word_tokenize(abstract)\n",
    "    tokens = [word for word in tokens if word not in string.punctuation]\n",
    "    stop_words_en = set(stopwords.words('english'))\n",
    "    stop_words_fr = set(stopwords.words('french'))\n",
    "    tokens = [word.lower() for word in tokens if word.lower() not in stop_words_en and word.lower() not in stop_words_fr]\n",
    "    return tokens\n",
    "\n",
    "df_pd['abstract_tokens'] = df_pd['Abstract_english'].apply(process_abstract)\n",
    "df_pd['Title_tokens'] = df_pd['English_Text'].apply(process_abstract)"
   ]
  },
  {
   "cell_type": "code",
   "execution_count": 51,
   "id": "b780f313",
   "metadata": {},
   "outputs": [],
   "source": [
    "df_pd = df_pd.drop('abstract_tokens', axis=1)\n",
    "df_pd = df_pd.drop('Title_tokens', axis=1)"
   ]
  },
  {
   "cell_type": "code",
   "execution_count": null,
   "id": "85ab6b99",
   "metadata": {},
   "outputs": [],
   "source": [
    "df_pd.head(2)"
   ]
  },
  {
   "cell_type": "code",
   "execution_count": 55,
   "id": "a1c4eb64",
   "metadata": {},
   "outputs": [],
   "source": [
    "from collections import Counter\n",
    "\n",
    "all_words_abs = [word for sublist in df_pd[\"abstract_tokens\"] for word in sublist]\n",
    "all_words_tit = [word for sublist in df_pd[\"Title_tokens\"] for word in sublist]\n",
    "abstract_word_counts = Counter(all_words_abs)\n",
    "title_word_counts = Counter(all_words_tit)\n"
   ]
  },
  {
   "cell_type": "code",
   "execution_count": null,
   "id": "3e74f687",
   "metadata": {
    "scrolled": true
   },
   "outputs": [],
   "source": [
    "print(abstract_word_counts.most_common(10))\n",
    "print(title_word_counts.most_common(10))"
   ]
  },
  {
   "cell_type": "markdown",
   "id": "320c86f4",
   "metadata": {},
   "source": [
    "## Word cloud des mots dans les titres"
   ]
  },
  {
   "cell_type": "code",
   "execution_count": null,
   "id": "c9e6b3fd",
   "metadata": {},
   "outputs": [],
   "source": [
    "from wordcloud import WordCloud\n",
    "import matplotlib.pyplot as plt\n",
    "\n",
    "wordcloud = WordCloud(width=800, height=400, background_color='white').generate_from_frequencies(title_word_counts)\n",
    "plt.figure(figsize=(10, 5))\n",
    "plt.imshow(wordcloud, interpolation='bilinear')\n",
    "plt.axis('off')\n",
    "plt.show()\n"
   ]
  },
  {
   "cell_type": "markdown",
   "id": "27fcf13a",
   "metadata": {},
   "source": [
    "## Word cloud des mots dans les résumés"
   ]
  },
  {
   "cell_type": "code",
   "execution_count": null,
   "id": "314e6a01",
   "metadata": {},
   "outputs": [],
   "source": [
    "from wordcloud import WordCloud\n",
    "import matplotlib.pyplot as plt\n",
    "\n",
    "wordcloud = WordCloud(width=800, height=400, background_color='white').generate_from_frequencies(abstract_word_counts)\n",
    "plt.figure(figsize=(10, 5))\n",
    "plt.imshow(wordcloud, interpolation='bilinear')\n",
    "plt.axis('off')\n",
    "plt.show()\n"
   ]
  },
  {
   "cell_type": "markdown",
   "id": "46fc678d",
   "metadata": {},
   "source": [
    "## Regrouper les mots des résumés en clusters selon les années d'apparition"
   ]
  },
  {
   "cell_type": "code",
   "execution_count": 62,
   "id": "357ca135",
   "metadata": {},
   "outputs": [],
   "source": [
    "from sklearn.feature_extraction.text import TfidfVectorizer\n",
    "from sklearn.cluster import KMeans\n",
    "import pandas as pd\n",
    "\n",
    "df_pd['Publication_Date'] = pd.to_datetime(df_pd['Publication_Date'])\n",
    "\n",
    "df_pd['abstract_text'] = df_pd['abstract_tokens'].apply(lambda tokens: ' '.join(tokens))\n",
    "\n",
    "vectorizer = TfidfVectorizer()\n",
    "X = vectorizer.fit_transform(df_pd['abstract_text'])\n",
    "\n",
    "kmeans = KMeans(n_clusters=2, random_state=42)\n",
    "kmeans.fit(X)\n",
    "\n",
    "df_pd['Cluster_label'] = kmeans.labels_\n"
   ]
  },
  {
   "cell_type": "code",
   "execution_count": null,
   "id": "74e1b10c",
   "metadata": {},
   "outputs": [],
   "source": [
    "clusters_by_year = df_pd.groupby([df_pd['Publication_Date'].dt.year, 'Cluster_label']).size()\n",
    "clusters_by_year = clusters_by_year.reset_index(name='Count')\n",
    "\n",
    "plt.figure(figsize=(10, 6))\n",
    "for cluster_label in clusters_by_year['Cluster_label'].unique():\n",
    "    cluster_data = clusters_by_year[clusters_by_year['Cluster_label'] == cluster_label]\n",
    "    plt.bar(cluster_data['Publication_Date'], cluster_data['Count'], label=f'Cluster {cluster_label}')\n",
    "\n",
    "plt.xlabel('Année')\n",
    "plt.ylabel('Nombre d\\'occurrences')\n",
    "plt.title('Occurrences de clusters par année')\n",
    "plt.legend()\n",
    "plt.show()\n"
   ]
  },
  {
   "cell_type": "code",
   "execution_count": null,
   "id": "651bcae2",
   "metadata": {},
   "outputs": [],
   "source": [
    "tokens_by_cluster = df_pd.groupby('Cluster_label')['abstract_text'].apply(lambda x: ' '.join(x))\n",
    "\n",
    "for cluster_label, text in tokens_by_cluster.items():\n",
    "    wordcloud = WordCloud(background_color='white').generate(text)\n",
    "    plt.figure(figsize=(8, 4))\n",
    "    plt.imshow(wordcloud, interpolation='bilinear')\n",
    "    plt.title(f'Word Cloud pour Cluster {cluster_label}')\n",
    "    plt.axis('off')\n",
    "    plt.show()"
   ]
  },
  {
   "cell_type": "markdown",
   "id": "b0807a38",
   "metadata": {},
   "source": [
    "## Regrouper les mots des titres en clusters selon les années d'apparition"
   ]
  },
  {
   "cell_type": "code",
   "execution_count": 70,
   "id": "648008f8",
   "metadata": {},
   "outputs": [],
   "source": [
    "from sklearn.feature_extraction.text import TfidfVectorizer\n",
    "from sklearn.cluster import KMeans\n",
    "import pandas as pd\n",
    "\n",
    "df_pd['Publication_Date'] = pd.to_datetime(df_pd['Publication_Date'])\n",
    "\n",
    "df_pd['title_text'] = df_pd['Title_tokens'].apply(lambda tokens: ' '.join(tokens))\n",
    "\n",
    "vectorizer = TfidfVectorizer()\n",
    "X = vectorizer.fit_transform(df_pd['title_text'])\n",
    "\n",
    "kmeans = KMeans(n_clusters=2, random_state=42)\n",
    "kmeans.fit(X)\n",
    "\n",
    "df_pd['Cluster_label_title'] = kmeans.labels_\n"
   ]
  },
  {
   "cell_type": "code",
   "execution_count": null,
   "id": "237e1216",
   "metadata": {},
   "outputs": [],
   "source": [
    "\n",
    "clusters_by_year = df_pd.groupby([df_pd['Publication_Date'].dt.year, 'Cluster_label_title']).size()\n",
    "\n",
    "clusters_by_year = clusters_by_year.reset_index(name='Count')\n",
    "\n",
    "plt.figure(figsize=(10, 6))\n",
    "for cluster_label in clusters_by_year['Cluster_label_title'].unique():\n",
    "    cluster_data = clusters_by_year[clusters_by_year['Cluster_label_title'] == cluster_label]\n",
    "    plt.bar(cluster_data['Publication_Date'], cluster_data['Count'], label=f'Cluster {cluster_label}')\n",
    "\n",
    "plt.xlabel('Année')\n",
    "plt.ylabel('Nombre d\\'occurrences')\n",
    "plt.title('Occurrences de clusters par année')\n",
    "plt.legend()\n",
    "plt.show()\n"
   ]
  },
  {
   "cell_type": "code",
   "execution_count": null,
   "id": "f0837c20",
   "metadata": {},
   "outputs": [],
   "source": [
    "tokens_by_cluster = df_pd.groupby('Cluster_label_title')['title_text'].apply(lambda x: ' '.join(x))\n",
    "\n",
    "for cluster_label, text in tokens_by_cluster.items():\n",
    "    wordcloud = WordCloud(background_color='white').generate(text)\n",
    "    plt.figure(figsize=(8, 4))\n",
    "    plt.imshow(wordcloud, interpolation='bilinear')\n",
    "    plt.title(f'Word Cloud pour Cluster {cluster_label}')\n",
    "    plt.axis('off')\n",
    "    plt.show()"
   ]
  }
 ],
 "metadata": {
  "kernelspec": {
   "display_name": "Python 3",
   "language": "python",
   "name": "python3"
  },
  "language_info": {
   "codemirror_mode": {
    "name": "ipython",
    "version": 3
   },
   "file_extension": ".py",
   "mimetype": "text/x-python",
   "name": "python",
   "nbconvert_exporter": "python",
   "pygments_lexer": "ipython3",
   "version": "3.10.9"
  }
 },
 "nbformat": 4,
 "nbformat_minor": 5
}
