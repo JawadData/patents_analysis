{
 "cells": [
  {
   "cell_type": "markdown",
   "id": "17a1b80a",
   "metadata": {},
   "source": [
    "# Reading the Data from MongoDB using SPARK"
   ]
  },
  {
   "cell_type": "code",
   "execution_count": 1,
   "id": "9cd8641f",
   "metadata": {},
   "outputs": [
    {
     "name": "stdout",
     "output_type": "stream",
     "text": [
      "Requirement already satisfied: pymongo[srv] in ./anaconda3/lib/python3.10/site-packages (4.6.3)\n",
      "Requirement already satisfied: dnspython<3.0.0,>=1.16.0 in ./anaconda3/lib/python3.10/site-packages (from pymongo[srv]) (2.6.1)\n",
      "Requirement already satisfied: pyspark in ./anaconda3/lib/python3.10/site-packages (3.5.1)\n",
      "Requirement already satisfied: py4j==0.10.9.7 in ./anaconda3/lib/python3.10/site-packages (from pyspark) (0.10.9.7)\n"
     ]
    }
   ],
   "source": [
    "!pip install pymongo\\[srv\\]\n",
    "!pip install pyspark"
   ]
  },
  {
   "cell_type": "code",
   "execution_count": 2,
   "id": "59143cdf",
   "metadata": {},
   "outputs": [
    {
     "name": "stderr",
     "output_type": "stream",
     "text": [
      "24/04/22 18:08:38 WARN Utils: Your hostname, nouhailas-MacBook-Air.local resolves to a loopback address: 127.0.0.1; using 192.168.3.171 instead (on interface en0)\n",
      "24/04/22 18:08:38 WARN Utils: Set SPARK_LOCAL_IP if you need to bind to another address\n",
      "Ivy Default Cache set to: /Users/nouhailanigrou/.ivy2/cache\n",
      "The jars for the packages stored in: /Users/nouhailanigrou/.ivy2/jars\n",
      "org.mongodb.spark#mongo-spark-connector_2.12 added as a dependency\n",
      ":: resolving dependencies :: org.apache.spark#spark-submit-parent-000f242d-ec60-4a49-b17c-b21cc2e1d442;1.0\n",
      "\tconfs: [default]\n"
     ]
    },
    {
     "name": "stdout",
     "output_type": "stream",
     "text": [
      ":: loading settings :: url = jar:file:/Users/nouhailanigrou/anaconda3/lib/python3.10/site-packages/pyspark/jars/ivy-2.5.1.jar!/org/apache/ivy/core/settings/ivysettings.xml\n"
     ]
    },
    {
     "name": "stderr",
     "output_type": "stream",
     "text": [
      "\tfound org.mongodb.spark#mongo-spark-connector_2.12;3.0.0 in central\n",
      "\tfound org.mongodb#mongodb-driver-sync;4.0.5 in central\n",
      "\tfound org.mongodb#bson;4.0.5 in central\n",
      "\tfound org.mongodb#mongodb-driver-core;4.0.5 in central\n",
      ":: resolution report :: resolve 173ms :: artifacts dl 8ms\n",
      "\t:: modules in use:\n",
      "\torg.mongodb#bson;4.0.5 from central in [default]\n",
      "\torg.mongodb#mongodb-driver-core;4.0.5 from central in [default]\n",
      "\torg.mongodb#mongodb-driver-sync;4.0.5 from central in [default]\n",
      "\torg.mongodb.spark#mongo-spark-connector_2.12;3.0.0 from central in [default]\n",
      "\t---------------------------------------------------------------------\n",
      "\t|                  |            modules            ||   artifacts   |\n",
      "\t|       conf       | number| search|dwnlded|evicted|| number|dwnlded|\n",
      "\t---------------------------------------------------------------------\n",
      "\t|      default     |   4   |   0   |   0   |   0   ||   4   |   0   |\n",
      "\t---------------------------------------------------------------------\n",
      ":: retrieving :: org.apache.spark#spark-submit-parent-000f242d-ec60-4a49-b17c-b21cc2e1d442\n",
      "\tconfs: [default]\n",
      "\t0 artifacts copied, 4 already retrieved (0kB/4ms)\n",
      "24/04/22 18:08:39 WARN NativeCodeLoader: Unable to load native-hadoop library for your platform... using builtin-java classes where applicable\n",
      "Setting default log level to \"WARN\".\n",
      "To adjust logging level use sc.setLogLevel(newLevel). For SparkR, use setLogLevel(newLevel).\n"
     ]
    }
   ],
   "source": [
    "from pyspark.sql import SparkSession\n",
    "spark = SparkSession.builder \\\n",
    "    .appName(\"YourApp\") \\\n",
    "    .config(\"spark.jars.packages\", \"org.mongodb.spark:mongo-spark-connector_2.12:3.0.0\") \\\n",
    "    .getOrCreate()"
   ]
  },
  {
   "cell_type": "code",
   "execution_count": 3,
   "id": "1f9da90b",
   "metadata": {},
   "outputs": [
    {
     "name": "stderr",
     "output_type": "stream",
     "text": [
      "24/04/22 18:08:42 WARN MongoInferSchema: Field 'Agent' contains conflicting types converting to StringType\n",
      "24/04/22 18:08:42 WARN MongoInferSchema: Field 'App Number' contains conflicting types converting to StringType\n",
      "24/04/22 18:08:42 WARN MongoInferSchema: Field 'Canadian Patent Classification' contains conflicting types converting to StringType\n",
      "24/04/22 18:08:42 WARN MongoInferSchema: Field 'Country' contains conflicting types converting to StringType\n",
      "24/04/22 18:08:42 WARN MongoInferSchema: Field 'Date' contains conflicting types converting to StringType\n",
      "24/04/22 18:08:42 WARN MongoInferSchema: Field 'Issued' contains conflicting types converting to StringType\n"
     ]
    },
    {
     "name": "stdout",
     "output_type": "stream",
     "text": [
      "root\n",
      " |-- Abstract: string (nullable = true)\n",
      " |-- Agent: string (nullable = true)\n",
      " |-- App Number: string (nullable = true)\n",
      " |-- Application Number: double (nullable = true)\n",
      " |-- Canadian Patent Classification: string (nullable = true)\n",
      " |-- Claims: string (nullable = true)\n",
      " |-- Country: string (nullable = true)\n",
      " |-- Date: string (nullable = true)\n",
      " |-- English Title: string (nullable = true)\n",
      " |-- Filled Date: string (nullable = true)\n",
      " |-- French Title: string (nullable = true)\n",
      " |-- Inventors: string (nullable = true)\n",
      " |-- Issued: string (nullable = true)\n",
      " |-- Language of Filling: string (nullable = true)\n",
      " |-- Owners: string (nullable = true)\n",
      " |-- Patent: string (nullable = true)\n",
      " |-- Title: string (nullable = true)\n",
      " |-- _id: struct (nullable = true)\n",
      " |    |-- oid: string (nullable = true)\n",
      "\n"
     ]
    },
    {
     "name": "stderr",
     "output_type": "stream",
     "text": [
      "[Stage 1:>                                                          (0 + 1) / 1]\r"
     ]
    },
    {
     "name": "stdout",
     "output_type": "stream",
     "text": [
      "+--------------------+--------------------+--------------+------------------+------------------------------+--------------------+--------------------+----------+--------------------+-----------+--------------------+--------------------+----------+-------------------+--------------------+----------+--------------------+--------------------+\n",
      "|            Abstract|               Agent|    App Number|Application Number|Canadian Patent Classification|              Claims|             Country|      Date|       English Title|Filled Date|        French Title|           Inventors|    Issued|Language of Filling|              Owners|    Patent|               Title|                 _id|\n",
      "+--------------------+--------------------+--------------+------------------+------------------------------+--------------------+--------------------+----------+--------------------+-----------+--------------------+--------------------+----------+-------------------+--------------------+----------+--------------------+--------------------+\n",
      "|Linvention concer...|       BRION RAFFOUL|           NaN|               NaN|                           NaN|26\\nClaims\\nWhat ...|                 NaN|       NaN|ELECTRICVEHICLE,B...| 2012-06-22|VEHICULE ELECTRIQ...|PARK, JUN-SEOK, K...|2015-12-01|            English|KOOKMIN UNIVERSIT...|CA 2781348|Patent 2781348 Su...|{660de17cfc8d9a4b...|\n",
      "|La présente inven...|FASKEN MARTINEAU ...|    60/973,794|               NaN|                           NaN|What is claimed i...|United States of ...|2007-09-20|ELECTRICVEHICLENE...| 2008-09-19|RESEAU DE VEHICUL...|AGASSI, SHAI, ZAR...|       NaN|            English|   BETTER PLACE GMBH|CA 2737243|Patent 2737243 Su...|{660de17cfc8d9a4b...|\n",
      "|L'invention conce...|              PRAXIS|    62/727,346|               NaN|                           NaN|CA 03111811 2021-...|United States of ...|2018-09-05|INTEGRATEDBATTERY...| 2019-09-05|BLOC D'ALIMENTATI...|VALDEVIT, RICHARD...|       NaN|            English|       EZBOOSTR INC.|CA 3111811|Patent 3111811 Su...|{660de17cfc8d9a4b...|\n",
      "|Un dispositif de ...|CASSAN MACLEAN IP...|    10/140,901|               NaN|                           NaN|WHAT IS CLAIMED I...|United States of ...|2002-05-07|SYSTEM AND METHOD...| 2003-05-05|SYSTEME ET METHOD...|JABAJI, ISSAM, JA...|2007-03-06|            English|  C.E. NIEHOFF & CO.|CA 2427868|Patent 2427868 Su...|{660de17cfc8d9a4b...|\n",
      "|Linvention a trai...|GOWLING WLG (CANA...|           NaN|               NaN|                           NaN|WHAT IS CLAIMED I...|                 NaN|       NaN|BATTERYEXCHANGING...| 2012-06-22|SYSTEME DE STATIO...|PARK, JUN SEOK, K...|2015-11-24|            English|KOOKMIN UNIVERSIT...|CA 2781513|Patent 2781513 Su...|{660de17cfc8d9a4b...|\n",
      "|Cette invention c...| DALE & LESSMANN LLP|201210160624.0|               NaN|                           NaN|WHAT IS CLAIMED I...|               China|2012-05-22|POWER SYSTEM OF H...| 2013-05-22|SYSTEME D'ALIMENT...|CHEN, LIQIANG, WA...|       NaN|            English| BYD COMPANY LIMITED|CA 2866944|Patent 2866944 Su...|{660de17cfc8d9a4b...|\n",
      "|L'invention porte...|FASKEN MARTINEAU ...|    15/488,396|               NaN|                           NaN|Claims\\nWhat is c...|United States of ...|2017-04-14|AUXILIARY POWER S...| 2018-04-11|SYSTEME D'ALIMENT...|RUMBAUGH, SCOTT, ...|       NaN|            English|    OX PARTNERS, LLC|CA 3059878|Patent 3059878 Su...|{660de17cfc8d9a4b...|\n",
      "|Un bloc de batter...| DENNISON ASSOCIATES|   2012-034056|               NaN|                           NaN|-30-\\nTHE EMBODIM...|               Japan|2012-02-20|POWER SUPPLY DEVI...| 2012-12-12|DISPOSITIF D'ALIM...|KAWATANI, SHINJI,...|2014-12-02|            English|HONDA MOTOR CO., ...|CA 2798658|Patent 2798658 Su...|{660de17cfc8d9a4b...|\n",
      "|Linvention concer...|       BRION RAFFOUL|           NaN|               NaN|                           NaN|26\\nClaims\\nWhat ...|                 NaN|       NaN|ELECTRICVEHICLE,B...| 2012-06-22|VEHICULE ELECTRIQ...|PARK, JUN-SEOK, K...|2015-12-01|            English|KOOKMIN UNIVERSIT...|CA 2781348|Patent 2781348 Su...|{660de17cfc8d9a4b...|\n",
      "|La présente inven...|FASKEN MARTINEAU ...|    60/973,794|               NaN|                           NaN|What is claimed i...|United States of ...|2007-09-20|ELECTRICVEHICLENE...| 2008-09-19|RESEAU DE VEHICUL...|AGASSI, SHAI, ZAR...|       NaN|            English|   BETTER PLACE GMBH|CA 2737243|Patent 2737243 Su...|{660de17cfc8d9a4b...|\n",
      "|L'invention conce...|              PRAXIS|    62/727,346|               NaN|                           NaN|CA 03111811 2021-...|United States of ...|2018-09-05|INTEGRATEDBATTERY...| 2019-09-05|BLOC D'ALIMENTATI...|VALDEVIT, RICHARD...|       NaN|            English|       EZBOOSTR INC.|CA 3111811|Patent 3111811 Su...|{660de17cfc8d9a4b...|\n",
      "|Un dispositif de ...|CASSAN MACLEAN IP...|    10/140,901|               NaN|                           NaN|WHAT IS CLAIMED I...|United States of ...|2002-05-07|SYSTEM AND METHOD...| 2003-05-05|SYSTEME ET METHOD...|JABAJI, ISSAM, JA...|2007-03-06|            English|  C.E. NIEHOFF & CO.|CA 2427868|Patent 2427868 Su...|{660de17cfc8d9a4b...|\n",
      "|Linvention a trai...|GOWLING WLG (CANA...|           NaN|               NaN|                           NaN|WHAT IS CLAIMED I...|                 NaN|       NaN|BATTERYEXCHANGING...| 2012-06-22|SYSTEME DE STATIO...|PARK, JUN SEOK, K...|2015-11-24|            English|KOOKMIN UNIVERSIT...|CA 2781513|Patent 2781513 Su...|{660de17cfc8d9a4b...|\n",
      "|Cette invention c...| DALE & LESSMANN LLP|201210160624.0|               NaN|                           NaN|WHAT IS CLAIMED I...|               China|2012-05-22|POWER SYSTEM OF H...| 2013-05-22|SYSTEME D'ALIMENT...|CHEN, LIQIANG, WA...|       NaN|            English| BYD COMPANY LIMITED|CA 2866944|Patent 2866944 Su...|{660de17cfc8d9a4b...|\n",
      "|L'invention porte...|FASKEN MARTINEAU ...|    15/488,396|               NaN|                           NaN|Claims\\nWhat is c...|United States of ...|2017-04-14|AUXILIARY POWER S...| 2018-04-11|SYSTEME D'ALIMENT...|RUMBAUGH, SCOTT, ...|       NaN|            English|    OX PARTNERS, LLC|CA 3059878|Patent 3059878 Su...|{660de17cfc8d9a4b...|\n",
      "|Un bloc de batter...| DENNISON ASSOCIATES|   2012-034056|               NaN|                           NaN|-30-\\nTHE EMBODIM...|               Japan|2012-02-20|POWER SUPPLY DEVI...| 2012-12-12|DISPOSITIF D'ALIM...|KAWATANI, SHINJI,...|2014-12-02|            English|HONDA MOTOR CO., ...|CA 2798658|Patent 2798658 Su...|{660de17cfc8d9a4b...|\n",
      "|Véhicule électriq...|BERESKIN & PARR L...|           NaN|               NaN|                           NaN|WO 2023/279135\\nP...|                 NaN|       NaN|ELECTRICVEHICLEFO...| 2021-07-09|VEHICULE ELECTRIQ...|OLIVER, JAMES, BA...|       NaN|            English|BLUVEIN INNOVATIO...|CA 3225259|Patent 3225259 Su...|{660de17cfc8d9a4b...|\n",
      "|L'invention conce...| DALE & LESSMANN LLP|201210160616.6|               NaN|                           NaN|WHAT IS CLAIMED I...|               China|2012-05-22|POWER SYSTEM OFEL...| 2013-05-22|SYSTEME D'ENERGIE...|WU, XINGCHI, WANG...|       NaN|            English| BYD COMPANY LIMITED|CA 2866946|Patent 2866946 Su...|{660de17cfc8d9a4b...|\n",
      "|La présente inven...|ROBIC AGENCE PI S...|    63/104,881|               NaN|                           NaN|WO 2022/082314\\nP...|United States of ...|2020-10-23|SYSTEM AND METHOD...| 2021-10-22|SYSTEME ET PROCED...|    LEVESQUE, DANIEL|       NaN|            English|PBSC SOLUTIONS UR...|CA 3166421|Patent 3166421 Su...|{660de17cfc8d9a4b...|\n",
      "|L'invention conce...| DALE & LESSMANN LLP|201210160396.7|               NaN|                           NaN|27\\nWHAT IS CLAIM...|               China|2012-05-22|POWER SYSTEM OFEL...| 2013-05-22|SYSTEME D'ALIMENT...|WU, XINGCHI, WANG...|       NaN|            English| BYD COMPANY LIMITED|CA 2866939|Patent 2866939 Su...|{660de17cfc8d9a4b...|\n",
      "+--------------------+--------------------+--------------+------------------+------------------------------+--------------------+--------------------+----------+--------------------+-----------+--------------------+--------------------+----------+-------------------+--------------------+----------+--------------------+--------------------+\n",
      "only showing top 20 rows\n",
      "\n"
     ]
    },
    {
     "name": "stderr",
     "output_type": "stream",
     "text": [
      "                                                                                \r"
     ]
    }
   ],
   "source": [
    "# MongoDB Details\n",
    "mongo_ip = \"mongodb://127.0.0.1:27017/\"\n",
    "db_name = \"BIGDATA\"  # Replace with your MongoDB database name\n",
    "collection_name = \"Canadian-Patent\"  # Replace with your MongoDB collection name\n",
    "\n",
    "df = spark.read.format(\"com.mongodb.spark.sql.DefaultSource\") \\\n",
    "    .option(\"uri\", mongo_ip + db_name + \".\" + collection_name) \\\n",
    "    .load()\n",
    "\n",
    "# Show the DataFrame schema and the first few rows\n",
    "df.printSchema()\n",
    "df.show()"
   ]
  },
  {
   "cell_type": "code",
   "execution_count": 4,
   "id": "befb53db",
   "metadata": {},
   "outputs": [
    {
     "data": {
      "text/plain": [
       "[Row(Abstract='Linvention concerne un véhicule électrique, une station de recharge de batterie et un système de réservation déchange de batterie de véhicule électrique comportant celle-ci. Le véhicule électrique comprend une unité de détection du niveau de puissance adaptée pour détecter un niveau de puissance dune batterie installée dans le véhicule électrique; une unité de communication adaptée pour communiquer avec une station de recharge de batterie; et une unité de commande adaptée pour déterminer une station de recharge de batterie dans laquelle la batterie du véhicule électrique doit être échangée, en fonction du niveau de puissance de la batterie et du trajet du véhicule électrique, puis pour transmettre une commande de réservation déchange de batterie à la station de recharge de batterie déterminée. Selon le niveau de puissance de batterie du véhicule électrique, une station de recharge de batterie se trouvant sur le trajet doit transmettre linformation relative à la batterie. Ensuite, léchange de batterie est réservé en conséquence pour que les batteries puissent être échangées de façon plus efficace et pratique.', Agent='BRION RAFFOUL', App Number='NaN', Application Number=nan, Canadian Patent Classification='NaN', Claims='26\\nClaims\\nWhat is claimed is:\\n1. An\\nelectric\\nvehicle\\ncomprising:\\na power level detection unit adapted to detect a\\npower level of a\\nbattery\\nmounted on the\\nelectric\\nvehicle\\n;\\na user input unit adapted to enable user input;\\na communication unit adapted to communicate with a\\nbattery\\ncharging station;\\na control unit adapted to determine or recommend to\\nthe user a\\nbattery\\ncharging station, in which the\\nbattery\\nof the\\nelectric\\nvehicle\\ncan be exchanged, based on the\\npower level of the\\nbattery\\nand a route of travel of the\\nelectric\\nvehicle\\nand transmit a\\nbattery\\nexchange\\nreservation command to the\\nbattery\\ncharging station\\ndetermined by the control unit or selected by the user; and\\nthe control unit is adapted to transmit information\\nregarding the\\nbattery\\nmounted on the\\nelectric\\nvehicle\\nto\\nthe\\nbattery\\ncharging station and request the\\nbattery\\ncharging station confirm whether there exists a\\nbattery\\nfor mounting on the\\nelectric\\nvehicle\\n;\\nthe\\nbattery\\ncharging station having:\\na charging station main unit provided with a\\nbattery\\nstorage unit;\\na\\nbattery\\nexchange robot installed in the charging\\nstation main unit and adapted to conduct a\\nbattery\\nexchange\\ntask;\\na protection guide adapted to seal a\\nbattery\\nmounting\\nmodule mounted on top of the\\nelectric\\nvehicle\\n; and\\n27\\na charging station control unit adapted to control\\nthe protection guide and the\\nbattery\\nexchange robot to\\nconduct an exchange task for the\\nelectric\\nvehicle\\n; and\\nwherein the charging station control unit is adapted\\nto confirm whether a reservation has been made or not, when\\nthe\\nelectric\\nvehicle\\nenters into the charging station main\\nunit, through communication with the\\nelectric\\nvehicle\\nand\\nconfirmation from a database unit; when the reservation is\\nconfirmed, lower the protection guide, when the\\nelectric\\nvehicle\\nenters, to seal the\\nbattery\\nmounting module, based\\non reservation information; and control the\\nbattery\\nexchange robot so as to exchange the\\nbattery\\n.\\n2. The\\nelectric\\nvehicle\\nas claimed in claim 1,\\nwherein the control unit is adapted to monitor a traveling\\ndistance of the\\nelectric\\nvehicle\\nbased on the\\nbattery\\npower\\nlevel, communicate with the\\nbattery\\ncharging station\\ncorresponding to the route of travel of the\\nelectric\\nvehicle\\nto acquire information regarding whether the\\nbattery\\nof the\\nelectric\\nvehicle\\ncan be exchanged or not,\\nand recommend the\\nbattery\\ncharging station, in which the\\nbattery\\nof the\\nelectric\\nvehicle\\ncan be exchanged, to the\\nuser.\\n3. The\\nelectric\\nvehicle\\nas claimed in claim 1 or 2,\\nwherein the control unit is adapted to provide the user\\nwith a charging request message when the power level of the\\nbattery\\nis below a threshold.\\n4. The\\nelectric\\nvehicle\\nas claimed in claim 1 or 2,\\nwherein the communication unit is adapted to communicate\\nwith an external source and acquire information regarding\\n28\\ntraffic conditions along the route of travel, and the\\ncontrol unit is adapted to calculate the traveling distance\\nbased on the traffic conditions and the\\nbattery\\npower\\nlevel.\\n5. The\\nelectric\\nvehicle\\nas claimed in claim 1 or 2,\\nwherein the\\nelectric\\nvehicle\\ncomprises an\\nelectric\\nbus\\ntraveling along a line, the\\nbattery\\ncharging station is\\ninstalled at a bus stop, and the control unit is adapted to\\nselect the\\nbattery\\ncharging station, which corresponds to\\nthe traveling line of the\\nelectric\\nbus, as a reservation\\ntarget.\\n6. The\\nelectric\\nvehicle\\nas claimed in claim .1 or 2,\\nwherein the\\nelectric\\nvehicle\\ncomprises the\\nbattery\\nmounting\\nmodule, on which the\\nbattery\\nis mounted, the\\nbattery\\nmounting module comprising the protection guide installed\\non top of the\\nelectric\\nvehicle\\nand adapted to be\\nopened/closed, and the control unit is adapted to send an\\nopening command to the protection guide, when entering the\\nreserved\\nbattery\\ncharging station, to enable and control\\nbattery\\nexchange.\\n7. An\\nelectric\\nvehicle\\nhaving an\\nelectric\\nvehicle\\nbattery\\ncharging station comprising:\\na\\nbattery\\nstorage unit adapted to contain a\\nchargeable\\nbattery\\nmounted on a\\nbattery\\nmounting module of\\nthe\\nelectric\\nvehicle\\n;\\na database unit adapted to store information\\nregarding the type, amount, and charging state of the\\nbattery\\ncontained in the\\nbattery\\nstorage unit and\\nreservation particulars;\\na communication unit adapted to communicate with the\\n29\\nelectric\\nvehicle\\n; and\\na reservation management unit adapted to extract\\ninformation regarding a reservable\\nbattery\\nfrom the\\ndatabase, to provide the\\nelectric\\nvehicle\\nwith the\\nextracted information, receive a reservation command from\\nthe\\nelectric\\nvehicle\\n, and to update reservation information\\nin the database unit,\\nwherein the\\nelectric\\nvehicle\\ncomprises,\\na power level detection unit adapted to detect a\\npower level of a\\nbattery\\nmounted on the\\nelectric\\nvehicle\\n;\\na user input unit adapted to enable user input;\\na communication unit adapted to communicate with a\\nbattery\\ncharging station;\\n.a control unit adapted to determine or recommend a\\nbattery\\ncharging station, in which the\\nbattery\\nof the\\nelectric\\nvehicle\\ncan be exchanged, to the user based on the\\npower level of the\\nbattery\\nand a route of travel of the\\nelectric\\nvehicle\\nand transmit a\\nbattery\\nexchange\\nreservation command to the\\nbattery\\ncharging station\\ndetermined by the control unit or selected by the user;\\nwherein the control unit is adapted to transmit\\ninformation regarding the\\nbattery\\nmounted on the\\nelectric\\nvehicle\\nto the\\nbattery\\ncharging station and request the\\nbattery\\ncharging station to confirm whether there exists a\\nbattery\\nfor mounting on the\\nelectric\\nvehicle\\n;\\nwherein the\\nelectric\\nvehicle\\nbattery\\ncharging station\\nhas:\\na charging station main unit provided with the\\nbattery\\nstorage unit;\\na\\nbattery\\nexchange robot installed in the charging\\nstation main unit and adapted to conduct a\\nbattery\\nexchange\\ntask;\\n30\\na protection guide adapted to seal the\\nbattery\\nmounting module mounted on top of the\\nelectric\\nvehicle\\n; and\\na charging station control unit adapted to control\\nthe protection guide and the\\nbattery\\nexchange robot to\\nconduct an exchange task for the\\nelectric\\nvehicle\\n, and\\nthe charging station control unit is adapted to\\nconfirm whether a reservation has been made or not, when\\nthe\\nelectric\\nvehicle\\nenters into the charging station main\\nunit, through communication with the\\nelectric\\nvehicle\\nand\\nconfirmation from the database unit; when the reservation\\nis confirmed, lower the protection guide, when the\\nelectric\\nvehicle\\nenters, to seal the\\nbattery\\nmounting module, based\\non reservation information; and control the\\nbattery\\nexchange robot so as to exchange the\\nbattery\\n.\\n8. The\\nelectric\\nvehicle\\nas claimed in claim 7,\\nwherein the\\nelectric\\nvehicle\\ncomprises an\\nelectric\\nbus\\ntraveling along a line, the\\nelectric\\nvehicle\\nbattery\\ncharging station is installed at a bus stop, and the\\ncontrol unit is adapted to select the\\nelectric\\nvehicle\\nbattery\\ncharging station, which corresponds to the\\ntraveling line of the\\nelectric\\nbus, as a reservation\\ntarget.\\n9. A method of reserving exchange of a\\nbattery\\nof an\\nelectric\\nvehicle\\n, comprising the steps of:\\ndetecting a power level of a\\nbattery\\nmounted on an\\nelectric\\nvehicle\\n;\\nasking, by the\\nelectric\\nvehicle\\n, a\\nbattery\\ncharging\\nstation, which exists along a route of travel, whether\\nexchange reservation is possible or not;\\n31\\nconfirming, by the\\nbattery\\ncharging station, whether\\nreservation of a\\nbattery\\nmountable on the\\nelectric\\nvehicle\\nis possible and transmitting a reply to the\\nelectric\\nvehicle\\n;\\nrequesting, by the\\nelectric\\nvehicle\\n, the\\nbattery\\ncharging station to reserve\\nbattery\\nexchange, when the\\nbattery\\ncharging station has replied that reservation is\\npossible, and providing the user with reservation\\ninformation;\\nupdating, by the\\nbattery\\ncharging station,\\nbattery\\nexchange reservation information;\\nconfirming, by the\\nbattery\\ncharging station, whether\\nthe\\nelectric\\nvehicle\\n, when entering into the\\nbattery\\ncharging station, has made reservation or not based on\\nidentification information regarding the\\nelectric\\nvehicle\\n;\\ntransmitting an entry grant signal to the\\nelectric\\nvehicle\\nwhen reservation information regarding the\\nelectric\\nvehicle\\nexists;\\nconfirming an entry position, when the\\nelectric\\nvehicle\\nenters into the\\nbattery\\ncharging station, and\\ntransmitting a confirmation signal to the\\nelectric\\nvehicle\\n;\\nopening a door of a\\nbattery\\nmounting module installed\\non top of the\\nelectric\\nvehicle\\n;\\nsealing the\\nbattery\\nmounting module by lowering a\\nprotection guide installed in the\\nbattery\\ncharging station;\\nand\\nexchanging the\\nbattery\\n.', Country='NaN', Date='NaN', English Title='ELECTRICVEHICLE,BATTERYCHARGING STATION,BATTERYEXCHANGING RESERVATION SYSTEM COMPRISING THE SAME AND METHOD THEREOF', Filled Date='2012-06-22', French Title=\"VEHICULE ELECTRIQUE, STATION DE RECHARGE DE BATTERIE, SYSTEME DE RESERVATION D'ECHANGE DE BATTERIE COMPORTANT CELLE-CI ET PROCEDE CONNEXE\", Inventors='PARK, JUN-SEOK, KIM, WON-KYU, PARK, HEE-JEING, MOON, HEE-SEOK, CHOI, WONG-CHUL, JEONG, JAY-IL, YU, CHI-MAN, JUNG, DO-YANG, SHIN, YONG-HARK, PARK, JAE-HONG', Issued='2015-12-01', Language of Filling='English', Owners='KOOKMIN UNIVERSITY INDUSTRY ACADEMY COOPERATION FOUNDATION', Patent='CA 2781348', Title='Patent\\xa02781348\\xa0Summary - Canadian Patents Database', _id=Row(oid='660de17cfc8d9a4b3bc213d9')),\n",
       " Row(Abstract=\"La présente invention concerne un véhicule électrique qui comprend un moteur électrique qui entraîne une ou plusieurs roues du véhicule et est alimenté par une batterie. Le véhicule électrique détermine un état d'une batterie du véhicule et un emplacement géographique du véhicule. Le véhicule électrique identifie ensuite au moins une station-service de batterie de véhicule que le véhicule peut atteindre en se basant sur l'état de charge de la batterie du véhicule et l'emplacement géographique du véhicule. Le véhicule électrique affiche la ou les stations-services de batterie à un utilisateur du véhicule.\", Agent='FASKEN MARTINEAU DUMOULIN LLP', App Number='60/973,794', Application Number=nan, Canadian Patent Classification='NaN', Claims='What is claimed is:\\n1. A method for providing information about\\nbattery\\nservice stations to an\\nelectric\\nvehicle\\nthat includes an\\nelectric\\nmotor that drives one or more wheels of the\\nvehicle\\nand is\\npowered by a\\nbattery\\n, the method comprising:\\nat a\\nvehicle\\n,\\ndetermining a status of a\\nbattery\\nof the\\nvehicle\\n;\\ndetermining a geographic location of the\\nvehicle\\n;\\nidentifying at least one\\nbattery\\nservice station that the\\nvehicle\\ncan reach\\nbased on the charge status of the\\nbattery\\nof the\\nvehicle\\nand the geographic\\nlocation of the\\nvehicle\\n; and\\nnotifying the user of the at least one\\nbattery\\nservice station to a user of\\nthe\\nvehicle\\n.\\n2. The method of claim 1, further comprising at the\\nvehicle\\n, displaying the\\ngeographic\\nlocation of the\\nvehicle\\nrelative to at least one\\nbattery\\nservice station on a\\nmap in a user\\ninterface of a positioning system of the\\nvehicle\\n.\\n3. The method of claim 1, further comprising at the\\nvehicle\\n, marking the\\nbattery\\nservice\\nstations that the\\nvehicle\\ncan reach on the map.\\n4. The method of claim 1, wherein the at least one\\nbattery\\nservice station is\\na charge\\nstations that recharges the\\nbattery\\nof the\\nvehicle\\nor a\\nbattery\\nexchange\\nstation that replaces an\\nat least partially spent\\nbattery\\nof the\\nvehicle\\nwith a charged\\nbattery\\n.\\n5. The method of claim 1,\\nwherein the\\nbattery\\nis not owned by the user, and\\nwherein the user of the\\nvehicle\\nis a user that has legal title to the\\nvehicle\\n,\\nor a user that\\nhas legal possession of the\\nvehicle\\n.\\n6. The method of claim 1, further comprising:\\nreceiving a selection of a\\nbattery\\nservice station from a user of the\\nvehicle\\n;\\nand\\nmaking a reservation at the\\nbattery\\nservice station for the\\nvehicle\\n.\\n7. The method of claim 1, wherein determining the status of the\\nbattery\\nof the\\nvehicle\\nincludes one selected from the group consisting of:\\n38\\ndetermining a charge level of the\\nbattery\\n;\\ndetermining an age of the\\nbattery\\n;\\ndetermining the number of charge/discharge cycles of the\\nbattery\\n; and\\nany combination of the aforementioned operations.\\n8. The method of claim 1, wherein identifying the\\nbattery\\nservice stations\\nthat the\\nvehicle\\ncan reach based on the status of the\\nbattery\\nof the\\nvehicle\\nincludes:\\ndetermining a maximum distance that the\\nvehicle\\ncan travel before the\\nbattery\\ncan no\\nlonger power the\\nelectric\\nmotor of the\\nvehicle\\n; and\\ndetermining the\\nbattery\\nservice stations that are within the maximum distance\\nfrom\\nthe geographic location of the\\nvehicle\\n.\\n9. The method of claim 8, wherein the maximum distance includes a specified\\nsafety\\nfactor.\\n10. The method of claim 1, including:\\ndetermining a maximum distance that the\\nvehicle\\ncan travel before the\\nbattery\\ncan no\\nlonger power the\\nelectric\\nmotor of the\\nvehicle\\n; and\\nmarking in a user interface of a positioning system of the\\nvehicle\\nan area of\\na map that\\nis within the maximum distance of the geographic location of the\\nvehicle\\n.\\n11. The method of claim 1, including periodically transmitting the status of\\nthe\\nbattery\\nof\\nthe\\nvehicle\\nto a service provider over a data network.\\n12. The method of claim 1, including periodically transmitting the geographic\\nlocation of\\nthe\\nvehicle\\nto a service provider over a data network.\\n13. The method of claim 1, including periodically receiving a status of the\\nbattery\\nservice\\nstations from a service provider over a data network.\\n14. The method of claim 13, wherein the status of a respective\\nbattery\\nservice\\nstation is\\nselected from the group consisting of-\\na number of charge stations of the respective\\nbattery\\nservice station that are\\noccupied;\\na number of charge stations of the respective\\nbattery\\nservice station that are\\nfree;\\na number of\\nbattery\\nexchange bays of the respective\\nbattery\\nservice station\\nthat are\\noccupied;\\n39\\na number of\\nbattery\\nexchange bays of the respective\\nbattery\\nservice station\\nthat are\\nfree;\\na location of the\\nbattery\\nservice station; and\\nand any combination of the aforementioned statuses.\\n15. A\\nvehicle\\nthat includes an\\nelectric\\nmotor that drives one or more wheels\\nof the\\nvehicle\\nand is powered by a\\nbattery\\n, comprising:\\none or more processors;\\na memory; and\\none or more programs stored in the memory, the one or more programs comprising\\ninstructions to:\\ndetermine a status of a\\nbattery\\nof the\\nvehicle\\n;\\ndetermine a geographic location of the\\nvehicle\\n;\\nidentify at least one\\nbattery\\nservice station that the\\nvehicle\\ncan reach based\\non the\\ncharge status of the\\nbattery\\nof the\\nvehicle\\nand the geographic location of the\\nvehicle\\n; and\\nnotify the user of the at least one\\nbattery\\nservice station to a user of the\\nvehicle\\n.\\n16. The\\nvehicle\\nof claim 15, further comprising instructions to display the\\ngeographic\\nlocation of the\\nvehicle\\nrelative to at least one\\nbattery\\nservice station on a\\nmap in a user\\ninterface of a positioning system of the\\nvehicle\\n.\\n17. The\\nvehicle\\nof claim 15, further comprising instructions to mark the\\nbattery\\nservice\\nstations that the\\nvehicle\\ncan reach on the map.\\n18. The\\nvehicle\\nof claim 15, wherein the at least one\\nbattery\\nservice station\\nis a charge\\nstation that recharge the\\nbattery\\nof the\\nvehicle\\n, or a\\nbattery\\nexchange\\nstation that replaces an\\nat least partially spent\\nbattery\\nof the\\nvehicle\\nwith a charged\\nbattery\\n.\\n19. The\\nvehicle\\nof claim 15,\\nwherein the\\nbattery\\nis not owned by user, and\\nwherein the user of the\\nvehicle\\na user that has legal title to the\\nvehicle\\n, or\\na user that\\nhas legal possession of the\\nvehicle\\n.\\n20. The\\nvehicle\\nof claim 15, further comprising instructions to:\\nreceive a selection of a\\nbattery\\nservice station from a user of the\\nvehicle\\n;\\nand\\nmaking a reservation at the\\nbattery\\nservice station for the\\nvehicle\\n.\\n21. The\\nvehicle\\nof claim 15, wherein the instruction to determine the status\\nof the\\nbattery\\nof the\\nvehicle\\nincludes one selected from the group consisting of:\\ninstructions to determine a charge level of the\\nbattery\\n;\\ninstructions to determine an age of the\\nbattery\\n;\\ninstructions to determine the number of charge/discharge cycles of the\\nbattery\\n; and\\nany combination of the aforementioned instructions.\\n22. The\\nvehicle\\nof claim 15, wherein the instructions to identify the\\nbattery\\nservice\\nstations that the\\nvehicle\\ncan reach based on the status of the\\nbattery\\nof the\\nvehicle\\nincludes\\ninstruction to:\\ndetermine a maximum distance that the\\nvehicle\\ncan travel before the\\nbattery\\ncan no\\nlonger power the\\nelectric\\nmotor of the\\nvehicle\\n; and\\ndetermine the\\nbattery\\nservice stations that are within the maximum distance\\nfrom the\\ngeographic location of the\\nvehicle\\n.\\n23. The\\nvehicle\\nof claim 22, wherein the maximum distance includes a specified\\nsafety\\nfactor.\\n24. The\\nvehicle\\nof claim 15, further comprising instructions to:\\ndetermine a maximum distance that the\\nvehicle\\ncan travel before the\\nbattery\\ncan no\\nlonger power the\\nelectric\\nmotor of the\\nvehicle\\n; and\\nmark in a user interface of a positioning system of the\\nvehicle\\nan area of a\\nmap that is\\nwithin the maximum distance of the geographic location of the\\nvehicle\\n.\\n25. The\\nvehicle\\nof claim 15, including instruction to periodically transmit\\nthe status of the\\nbattery\\nof the\\nvehicle\\nto a service provider over a data network.\\n26. The\\nvehicle\\nof claim 15, including instruction to periodically transmit\\nthe geographic\\nlocation of the\\nvehicle\\nto a service provider over a data network.\\n27. The\\nvehicle\\nof claim 15, including instructions to periodically receive a\\nstatus of the\\nbattery\\nservice stations from a service provider over a data network.\\n28. The\\nvehicle\\nof claim 27, wherein the status of a respective\\nbattery\\nservice station is\\nselected from the group consisting of:\\na number of charge stations of the respective\\nbattery\\nservice station that are\\noccupied;\\n41\\na number of charge stations of the respective\\nbattery\\nservice station that are\\nfree;\\na number of\\nbattery\\nexchange bays of the respective\\nbattery\\nservice station\\nthat are\\noccupied;\\na number of\\nbattery\\nexchange bays of the respective\\nbattery\\nservice station\\nthat are\\nfree;\\na location of the\\nbattery\\nservice station; and\\nand any combination of the aforementioned statuses.\\n29. A computer readable storage medium storing one or more programs configured\\nfor\\nexecution by a computer, the one or more programs comprising instructions to:\\ndetermine a status of a\\nbattery\\nof the\\nvehicle\\n, wherein the\\nvehicle\\nincludes\\nan\\nelectric\\nmotor that drives one or more wheels of the\\nvehicle\\n, wherein the\\nelectric\\nmotor receives\\nenergy from the\\nbattery\\n;\\ndetermine a geographic location of the\\nvehicle\\n;\\nidentify at least one\\nbattery\\nservice station that the\\nvehicle\\ncan reach based\\non the\\ncharge status of the\\nbattery\\nof the\\nvehicle\\nand the geographic location of the\\nvehicle\\n; and\\nnotify the user of the at least one\\nbattery\\nservice station to a user of the\\nvehicle\\n.\\n30. The computer readable storage medium of claim 29, further comprising\\ninstructions to\\ndisplay the geographic location of the\\nvehicle\\nrelative to at least one\\nbattery\\nservice station on\\na map in a user interface of a positioning system of the\\nvehicle\\n.\\n31. The computer readable storage medium of claim 29, further comprising\\ninstructions to\\nmark the\\nbattery\\nservice stations that the\\nvehicle\\ncan reach on the map.\\n32. The computer readable storage medium of claim 29, wherein the at least one\\nbattery\\nservice station is a charge station that recharge the\\nbattery\\nof the\\nvehicle\\nor a\\nbattery\\nexchange station that replaces an at least partially spent\\nbattery\\nof the\\nvehicle\\nwith a charged\\nbattery\\n.\\n33. The computer readable storage medium of claim 29,\\nwherein the\\nbattery\\nis not owned by the user, and\\nwherein the user of the\\nvehicle\\nis a user that has legal title to the\\nvehicle\\n,\\nor a user that\\nhas legal possession of the\\nvehicle\\n.\\n42\\n34. The computer readable storage medium of claim 29, further comprising\\ninstructions\\nto:\\nreceive a selection of a\\nbattery\\nservice station from a user of the\\nvehicle\\n;\\nand\\nmaking a reservation at the\\nbattery\\nservice station for the\\nvehicle\\n.\\n35. The computer readable storage medium of claim 29, wherein the instructions\\nto\\ndetermine the status of the\\nbattery\\nof the\\nvehicle\\nincludes one selected from\\nthe group\\nconsisting of:\\ninstructions to determine a charge level of the\\nbattery\\n;\\ninstructions to determine an age of the\\nbattery\\n;\\ninstructions to determine the number of charge/discharge cycles of the\\nbattery\\n; and\\nany combination of the aforementioned instructions.\\n36. The computer readable storage medium of claim 29, wherein the instructions\\nto\\nidentify the\\nbattery\\nservice stations that the\\nvehicle\\ncan reach based on the\\nstatus of the\\nbattery\\nof the\\nvehicle\\nincludes instructions to:\\ndetermine a maximum distance that the\\nvehicle\\ncan travel before the\\nbattery\\ncan no\\nlonger power the\\nelectric\\nmotor of the\\nvehicle\\n; and\\ndetermine the\\nbattery\\nservice stations that are within the maximum distance\\nfrom the\\ngeographic location of the\\nvehicle\\n.\\n37. The computer readable storage medium of claim 36, wherein the maximum\\ndistance\\nincludes a specified safety factor.\\n38. The computer readable storage medium of claim 29, including instructions\\nto:\\ndetermine a maximum distance that the\\nvehicle\\ncan travel before the\\nbattery\\ncan no\\nlonger power the\\nelectric\\nmotor of the\\nvehicle\\n; and\\nmark in a user interface of a positioning system of the\\nvehicle\\nan area of a\\nmap that is\\nwithin the maximum distance of the geographic location of the\\nvehicle\\n.\\n39. The computer readable storage medium of claim 29, including instructions\\nto\\nperiodically transmit the status of the\\nbattery\\nof the\\nvehicle\\nto a service\\nprovider over a data\\nnetwork.\\n43\\n40. The computer readable storage medium of claim 29, including instructions\\nto\\nperiodically transmit the geographic location of the\\nvehicle\\nto a service\\nprovider over a data\\nnetwork.\\n41. The computer readable storage medium of claim 29, including instructions\\nto\\nperiodically receive a status of the\\nbattery\\nservice stations from a service\\nprovider over a data\\nnetwork.\\n42. The computer readable storage medium of claim 41, wherein the status of a\\nrespective\\nbattery\\nservice station is selected from the group consisting of-\\na number of charge stations of the respective\\nbattery\\nservice station that are\\noccupied;\\na number of charge stations of the respective\\nbattery\\nservice station that are\\nfree;\\na number of\\nbattery\\nexchange bays of the respective\\nbattery\\nservice station\\nthat are\\noccupied;\\na number of\\nbattery\\nexchange bays of the respective\\nbattery\\nservice station\\nthat are\\nfree;\\na location of the\\nbattery\\nservice station; and\\nand any combination of the aforementioned statuses.\\n44', Country='United States of America', Date='2007-09-20', English Title='ELECTRICVEHICLENETWORK', Filled Date='2008-09-19', French Title='RESEAU DE VEHICULE ELECTRIQUE', Inventors='AGASSI, SHAI, ZARUR, ANDREY J.', Issued='NaN', Language of Filling='English', Owners='BETTER PLACE GMBH', Patent='CA 2737243', Title='Patent\\xa02737243\\xa0Summary - Canadian Patents Database', _id=Row(oid='660de17cfc8d9a4b3bc213da')),\n",
       " Row(Abstract=\"L'invention concerne un dispositif conçu pour délivrer une puissance électrique supplémentaire à un véhicule motorisé comprenant une batterie de véhicule et un alternateur, le dispositif comportant une batterie auxiliaire. La batterie auxiliaire est installée ou montée dans le véhicule et maintenue dans celui-ci pendant la conduite du véhicule. Une communication électrique est établie entre la batterie auxiliaire et la batterie du véhicule. La batterie auxiliaire permet de délivrer une puissance électrique supplémentaire destinée à faire démarrer le moteur lorsque la batterie du véhicule est épuisée et/ou à recharger la batterie du véhicule afin d'éviter son épuisement.\", Agent='PRAXIS', App Number='62/727,346', Application Number=nan, Canadian Patent Classification='NaN', Claims='CA 03111811 2021-03-05\\nWO 2020/047647\\nPCT/CA2019/000125\\nWHAT IS CLAIMED IS:\\n1. A device for providing additional\\nelectrical\\npower to an engine\\n5 powered\\nvehicle\\ncomprising a\\nvehicle\\nbattery\\nand an alternator, the device\\ncomprising:\\nan auxiliary\\nbattery\\nfor being mounted to the\\nvehicle\\nto be\\nmaintained therewith during driving of the\\nvehicle\\n, the auxiliary\\nbattery\\nbeing\\npositioned and maintained in\\nelectrical\\ncommunication with the\\nvehicle\\nbattery\\n10    during driving of the\\nvehicle\\n,\\nwherein the auxiliry\\nbattery\\nprovides for supplying additional\\nelectrical\\npower for starting the engine when the\\nvehicle\\nbattery\\nis depleted\\nand/or\\nfor recharging the\\nvehicle\\nbattery\\nto avoid depletion thereof.\\n15        2. A device according to claim 1, wherein the auxiliary\\nbattery\\nis\\npositioned within the\\nvehicle\\nand maintained within the\\nvehicle\\n.\\n3. A device according to any one of claims 1 or 2, further comprising\\na cable in\\nelectrical\\ncommunication with the auxiliary\\nbattery\\nfor being\\npositioned\\n20    and maintained in\\nelectrical\\ncommunication with the\\nvehicle\\nbattery\\nduring driving of\\nthe\\nvehicle\\nto provide the\\nelectrical\\ncommunication between the auxiliary\\nbattery\\nand the\\nvehicle\\nbatter.\\n4. A device according to claim 3, wherein the cable is positioned\\n25    and maintained in\\nelectrical\\ncommunication with the alternator to\\nreceive\\nelectrical\\npower therefrom during driving of the\\nvehicle\\nfor recharging thereof.\\n5. A device according to 3, wherein the cable is in\\nelectrical\\nSUBSTITUTE SHEET (RULE 26)\\nCA 03111811 2021-03-05\\nWO 2020/047647\\nPCT/CA2019/000125\\n26\\ncommunication with the alternator via a ground connection.\\n6. A device according to claim 5, wherein the ground connection is\\nprovided by a removable fastener.\\n7. A device according to any one of claims 1 to 6, wherein the\\nvehicle\\nbattery\\nprovides for replenishing the auxiliary\\nbattery\\nwith\\nelectrical\\npower\\nduring driving of the\\nvehicle\\n.\\n8. A device according to any one of claims 3 to 5, wherein the cable\\nis fastened to the\\nvehicle\\nbattery\\n.\\n9. A device according to any one of claims 1 to 6, further comprising\\na housing for housing the auxiliary\\nbattery\\ntherein.\\n10. A device according to claim 9, wherein the housing comprises\\na connector for providing\\nelectrical\\ncommunication with the auxiliary\\nbattery\\n.\\n11. A device according to any one of claims 9 or 10, wherein the\\nhousing comprises water-resistant material.\\n12 A device according to any one of claims 1 to 9, further\\ncomprising a heating element in communication with the auxiliary\\nbattery\\nfor\\nheating\\nthereof, a heating element controller in communication with the heating\\nelement for\\ncontrol thereof and an ambient temperature sensor for detecting the ambient\\ntemperature and being in communication with the heating element controller,\\nthe\\nheating element controller providing for modulating the heating element to\\nselectively provide heat to the auxiliary\\nbattery\\nbased on the detected\\nambient\\nSUBSTITUTE SHEET (RULE 26)\\nCA 03111811 2021-03-05\\nWO 2020/047647\\nPCT/CA2019/000125\\n_\\n27\\ntemperature.\\n13. A device according to any one of claims 1 to 12, further\\ncomprising:\\na controller comprising a processor and an associated memory of\\nprocessor executable code that when executed provides the controller to\\nperform\\ncomputer implementable steps, the controller being in communication with the\\nauxiliary\\nbattery\\n; and\\na user interface in communication with the controller.\\n14. A device according to claim 13, wherein the controller is in\\noperative communication with the auxiliary\\nbattery\\n, the user interface\\nproviding a\\nuser to selectively modulate\\nelectrical\\npower supply from the auxiliary\\nbatten/ via\\ncommands transmitted to the controller.\\n15. A device according to any one of claims 13 or 14, wherein the\\ncontroller performs the computer implementable steps of:\\nidentifying a real-time amount of\\nelectrical\\npower stored in the\\nauxiliary\\nbattery\\n;\\nand communicating the real-time amount of\\nelectrical\\npower stored\\nto a user via the user interface.\\n16. A device according to claim 15, further comprising an auxiliary\\nbattery\\nsensor in communication with the auxiliary\\nbattery\\nand the controller\\nfor\\ndetecting the real-time amount of\\nelectrical\\npower stored in the auxiliary\\nbattery\\nand\\nfor transmitting the detected amount to the controller.\\n17. A device according to any one of claims 13 to 16, wherein the\\nSUBSTITUTE SHEET (RULE 26)\\nCA 03111811 2021-03-05\\nWO 2020/047647\\nPCT/CA2019/000125\\n28\\ncontroller performs the computer implementable steps of:\\nidentifying a condition status of the auxiliary\\nbattery\\n; and\\ncommunicating the condition status of the auxiliary\\nbattery\\nto the\\nuser via the user interface.\\n18. A device according to any one of claims 13 to 17, wherein the\\ncontroller is positioned in and configured for operative communication with\\nthe\\nvehicle\\nbattery\\n.\\n19. A device according to 18, wherein the controller performs the\\ncomputer implementable steps of:\\nidentifying the amount of\\nelectrical\\npower stored in the\\nvehicle\\nbattery\\n;\\ncommunicating the real-time amount of\\nelectrical\\npower stored to a\\nuser via the user interface.\\n20. A device according to claim 19, further comprising a\\nvehicle\\nbattery\\nsensor in communication with the\\nvehicle\\nbattery\\nand the controller\\nfor\\ndetecting the real-time amount of\\nelectrical\\npower stored in the\\nvehicle\\nbattery\\nand\\nfor transmitting the detected amount to the controller.\\n21. A device according to any one of claims 13 to 20, wherein the\\ncontroller performs the computer implementable steps of:\\nidentifying a condition status of the\\nvehicle\\nbattery\\n; and\\ncommunicating the condition status of the\\nvehicle\\nbattery\\nto the user\\nvia the user interface.\\n22. A device according to any one of claims 13 to 21, further\\nSUBSTITUTE SHEET (RULE 26)\\nCA 03111811 2021-03-05\\nWO 2020/047647\\nPCT/CA2019/000125\\n29\\ncomprising an ambient temperature sensor in communication with the controller\\nfor\\ndetecting the ambient temperature and transmitting the detected ambient\\ntemperature to the controller.\\n23. A device according to claim 20, further comprising a heating\\nelement in operational communication with the auxiliary\\nbattery\\nfor providing\\nheating\\nthereto and in operational communication with the controller, the controller\\nperforming the computer implementable step of:\\nmodulating the heating element to selectively provide heat to the\\n.. auxiliary\\nbattery\\nbased on the ambient temperature.\\n24. A device according to any one of claims 21 or 23, wherein the\\ncontroller performs the computer implementable step of:\\ncommunicating the ambient temperature to the user via the user\\n.. interface.\\n25. A device according to claim 22, further comprising a heating\\nelement in operational communication with the auxiliary\\nbattery\\nfor providing\\nheating\\nthereto and in operational communication with the controller, wherein the\\ncontroller\\nperforms the computer implementable step of:\\ncommunicating the ambient temperature to the user via the user\\ninterface for providing the user to selectively modulate the heating element\\nto\\nselectively provide heat to the auxiliary\\nbattery\\nvia the controller by way of\\nuser\\ncommands.\\n26. A device according to any one of claims 11 to 23, further\\ncomprising an additional condition detecting instrument for detecting a pre-\\ndetermined condition, the additional condition detecting instrument being in\\nSUBSTITUTE SHEET (RULE 26)\\nCA 03111811 2021-03-05\\nWO 2020/047647\\nPCT/CA2019/000125\\noperational communication with the controller for providing thereto the\\ndetected\\ncondition.\\n27. A device in accordance with claim 26, wherein the controller\\n5    communicates the detected condition to the user via the user interface.\\n28. A device according to any one of claim 22 to 27, wherein the\\nadditional condition detecting instrument is selected from the group\\nconsisting of a\\nmotion detector, a GPS, an ambient sound detector, a data input for a\\nvehicle\\n10    integrated computer, a moisture sensor and any combination thereof.\\n29. A device according to any one of claims 13 to 28, wherein the\\ncontroller and user interface are integrated in a handheld mobile unit.\\n15            30. A device according to any one of claims 13 to 28, wherein\\nthe\\ncontroller is positioned within the\\nvehicle\\nand the user interface being\\nintegrated into\\na remote device.\\n31. A device according to any one of claims 13 to 28, wherein the\\n20 controller comprises an assembly, the assembly comprising a plurality of\\nprocessors, one processor being positioned within the\\nvehicle\\nanother\\nprocessor\\nbeing integrated into a remote device.\\n32. A device according to claim 31, wherein the user interface is\\n25 .. integrated into the remote device.\\n33. A device according to claim 32, wherein the remote device\\ncomprises a handheld unit.\\nSUBSTITUTE SHEET (RULE 26)\\nCA 03111811 2021-03-05\\nWO 2020/047647\\nPCT/CA2019/000125\\n31\\n34. A device according to any one of claims 13 to 33, further\\ncomprising at least one supplemental instrument in operative communication\\nwith\\nan element selected from the group consisting of: the auxiliary\\nbattery\\n, the\\nvehicle\\nbattery\\n, the alternator, a\\nvehicle\\ncomputer, one or more\\nvehicle\\ncomponents\\nand\\nany combination thereof.\\n35. A device according to claim 34, wherein the controller is in\\noperative communication with the element and performs the computer\\nimplementable step of:\\nmodulating the element in accordance with a status condition.\\n36. A system for monitoring and/or modulating a plurality of devices\\naccording to claims 13 to 35, wherein the system comprises:\\na master controller in communication with the controller of each of\\nthe devices for receiving identified information therefrom; and\\na system interface for communicating the identified information to a\\nsystem user.\\n37. A method for providing additional\\nelectrical\\npower to an engine\\npowered\\nvehicle\\ncomprising a\\nvehicle\\nbattery\\nand an alternator, the method\\ncomprising:\\ninstalling an auxiliary\\nbattery\\nwithin the\\nvehicle\\nto be maintained\\ntherein during driving of the\\nvehicle\\n; and\\nproviding\\nelectrical\\ncommunication between the auxiliary\\nbattery\\nand the\\nvehicle\\nbattery\\nduring driving of the\\nvehicle\\n,\\nsupplying additional\\nelectrical\\npower from the auxiliary batter for\\nstarting the engine when the\\nvehicle\\nbattery\\nis depleted and/or for recharging\\nthe\\nvehicle\\nbattery\\nto avoid depletion.\\nSUBSTITUTE SHEET (RULE 26)\\nCA 03111811 2021-03-05\\nWO 2020/047647\\nPCT/CA2019/000125\\n32\\n38.    A method according to claim 37, further comprising:\\nreplenishing the auxiliary\\nbattery\\nwith\\nelectrical\\npower from the alternator\\nwhen\\ndriving the car and or from the\\nvehicle\\nbatter when driving the car.\\n39. A method according to any one of claims 37 or 38, further\\ncomprising:\\ndetecting a real-time condition status of the auxiliary\\nbattery\\nand/or\\nthe\\nvehicle\\nand communicating the real-time condition to a remote user in real-\\ntime.\\n40. A method according to any one of claims 37 to 39, further\\ncomprising modulating heating of the auxiliary\\nbattery\\nbased on ambient\\ntemperature.\\nSUBSTITUTE SHEET (RULE 26)', Country='United States of America', Date='2018-09-05', English Title='INTEGRATEDBATTERYBOOSTER DEVICE FORVEHICLEAND METHOD', Filled Date='2019-09-05', French Title=\"BLOC D'ALIMENTATION POUR DEMARRAGE DE SECOURS INTEGRE POUR VEHICULE ET PROCEDE ASSOCIE\", Inventors='VALDEVIT, RICHARD, MANCINI, ANTONIO, TABAH, GARY, MERCURIO, VINCE', Issued='NaN', Language of Filling='English', Owners='EZBOOSTR INC.', Patent='CA 3111811', Title='Patent\\xa03111811\\xa0Summary - Canadian Patents Database', _id=Row(oid='660de17cfc8d9a4b3bc213db')),\n",
       " Row(Abstract=\"Un dispositif de charge et un appareil de chargement d'une batterie d'un système de véhicule électrique débranchent de façon contrôlée une batterie ou une autre source d'énergie stockée du système électrique quand l'état de la batterie entraîne la tension du système sous une valeur seuil désirée. Le dispositif filtre la tension d'ondulation de la génératrice pendant le fonctionnement sans batterie pour maintenir une tension d'ondulation acceptable. Le dispositif de chargement et de commande de chargement d'une batterie recharge la batterie qui est débranchée du système électrique du véhicule à une tension contrôlée indépendante de la tension du système électrique du véhicule. Le dispositif de chargement et de commande de batterie contrôle la recharge de la batterie de sorte à éviter de surcharger le système électrique du véhicule puis rebranche la batterie au système électrique du véhicule lorsque la tension de la batterie a atteint une valeur seuil minimum.\", Agent='CASSAN MACLEAN IP AGENCY INC.', App Number='10/140,901', Application Number=nan, Canadian Patent Classification='NaN', Claims='WHAT IS CLAIMED IS:\\n1. A system for monitoring\\nvehicle\\nelectrical\\nload and controlling\\nbattery\\ncharge\\ncomprising:\\na generator\\nelectrically\\ncoupled with a\\nvehicle\\nelectrical\\nsystem;\\na\\nbattery\\nelectrically\\ncoupled with the\\nvehicle\\nelectrical\\nsystem via a\\nbattery\\ndisconnect switch; and\\na control circuit in communication with the\\nbattery\\ndisconnect switch, wherein\\nthe control circuit is configured to control the\\nbattery\\ndisconnect switch to\\ndisconnect the\\nbattery\\nfrom the\\nvehicle\\nelectrical\\nsystem when a voltage output of the\\ngenerator is below\\na desired threshold, and wherein the control circuit is configured to control\\nthe\\nbattery\\ndisconnect switch to reconnect the\\nbattery\\nto the\\nvehicle\\nelectrical\\nsystem\\nwhen a voltage of\\nthe\\nbattery\\nis above a desired\\nbattery\\nvoltage threshold, and wherein the\\ncontrol circuit is\\nconfigured to regulate a\\nbattery\\ncharging voltage with excess generator\\ncapacity while the\\nbattery\\nis disconnected from the\\nvehicle\\nelectrical\\nsystem.\\n2. The system of claim 1, wherein the control circuit further comprises a\\nbattery\\ncharging circuit.\\n3. The system of claim 1, wherein the generator comprises an alternator.\\n4. The system of claim 1, wherein the control circuit comprises a ripple\\nfilter.\\n5. The system of claim 2, wherein the\\nbattery\\ncharging circuit comprises a\\nsilicon\\ncontrolled rectifier.\\n6. The system of claim 2, wherein the control circuit is configured to adjust\\na rate\\nof\\nbattery\\nrecharge via the\\nbattery\\ncharging circuit.\\n7. The system of claim 5, wherein the control circuit is configured to\\nautomatically\\nadjust a duty cycle of the silicon controlled rectifier to adjust a rate of\\nbattery\\nrecharge.\\n- 15 -\\n8. The system of claim 7, wherein the control circuit comprises a voltage\\nsense input\\nand wherein the control circuit is configured to adjust the duty cycle of the\\nsilicon controlled\\nrectifier in response to a generator voltage detected at the voltage sense\\ninput.\\n9. A control circuit for controlling a rate of recharge of a\\nbattery\\nin a\\nvehicle\\nelectrical\\nsystem, wherein the\\nvehicle\\nelectrical\\nsystem is powered by an\\nalternator during\\nvehicle\\noperation, the control circuit comprising:\\na\\nbattery\\ndisconnect switch disposed between the\\nbattery\\nand the\\nvehicle\\nelectrical\\nsystem operable to\\nelectrically\\ndisconnect the\\nbattery\\nfrom the\\nvehicle\\nelectrical\\nsystem;\\na\\nbattery\\ncharging circuit in\\nelectrical\\ncommunication with the\\nbattery\\nand\\nthe\\nalternator;\\na processor in communication with the\\nbattery\\ndisconnect switch and the\\nbattery\\ncharging circuit; and\\nprogramming code operable on the processor to disconnect the\\nbattery\\nfrom the\\nvehicle\\nelectrical\\nsystem with the\\nbattery\\ndisconnect switch in response to an\\nalternator\\nvoltage output below a threshold value, and to control a recharge rate for the\\nbattery\\nwith the\\nbattery\\ncharging circuit while the\\nbattery\\nis disconnected from the\\nvehicle\\nelectrical\\nsystem.\\n10. The control circuit of claim 9, wherein the\\nbattery\\ncharging circuit\\ncomprises a\\nsilicon controlled rectifier.\\n11. The control circuit of claim 9, wherein the\\nbattery\\ndisconnect switch\\ncomprises\\na relay.\\n12. The system of claim 9, wherein the control circuit further comprises a\\nripple filter\\nhaving an input coupled to the alternator voltage output and an output coupled\\nto the\\nvehicle\\nelectrical\\nsystem, wherein a ripple voltage of the alternator voltage output\\nis reduced when\\nthe\\nbattery\\nis disconnected from the\\nvehicle\\nelectrical\\nsystem.\\n13. A method for controlling\\nelectric\\nload and\\nbattery\\ncharge in a\\nvehicle\\nelectrical\\nsystem, the method comprising:\\n(a) disconnecting a rechargeable source of stored energy from the\\nvehicle\\n- 16 -\\nelectrical\\nsystem if a voltage at the\\nvehicle\\nelectrical\\nsystem falls below\\na first threshold;\\n(b) controllably charging the rechargeable source of stored energy with\\nenergy from a generator in the\\nvehicle\\nelectrical\\nsystem such that an\\noperating voltage of the\\nvehicle\\nelectrical\\nsystem remains above an\\noperating voltage threshold; and\\n(c) reconnecting the rechargeable source of stored energy to the\\nvehicle\\nelectrical\\nsystem when a voltage at the rechargeable source of stored\\nenergy is above a desired voltage threshold, wherein the\\nvehicle\\nelectrical\\nsystem operates with energy from the generator while the rechargeable\\nsource of stored energy is disconnected and being recharged.\\n14. The method of claim 13, wherein (a) comprises sensing an output voltage of\\nthe\\ngenerator, comparing the output voltage of the generator to the first\\nthreshold, and operating\\na relay to disconnect the rechargeable source of stored energy if the sensed\\noutput voltage\\nof the generator is less than the first threshold.\\n15. The method of claim 13, wherein (b) further comprises controllably\\ncharging the\\nrechargeable source of stored energy by adjusting a duty cycle of a switchable\\ndevice\\nconnecting the rechargeable source of stored energy to the generator.\\n16. The method of claim 15 wherein the switchable device comprises a silicon\\ncontrolled rectifier.\\n17. The method of claim 13, wherein the rechargeable source of stored energy\\ncomprises a\\nbattery\\n.\\n18. The method of claim 13, wherein (b) further comprises signalling a warning\\nto\\na\\nvehicle\\noperator while the source of stored energy is disconnected from the\\nvehicle\\nelectrical\\nsystem.\\n19. The method of claim 13, wherein (c) further comprises reconnecting the\\nrechargeable source of stored energy to the\\nvehicle\\nelectrical\\nsystem when a\\nvoltage at the\\n- 17 -\\nrechargeable source of stored energy is maintained at a different voltage\\nlevel than the\\noperating voltage of the\\nvehicle\\nelectrical\\nsystem above a desired voltage\\nthreshold.\\n20. The method of claim 13, wherein the generator comprises an alternator\\nhaving a\\nthree phase AC output and (b) further comprises controllably charging the\\nsource of stored\\nenergy with at least one phase of the three phase AC output of the alternator.\\n21. The system of claim 2, wherein the control circuit is adapted to\\nswitchably\\nconnect a trickle charge line in communication with the\\nbattery\\nto power\\nproduced by the\\ngenerator while the\\nbattery\\nis disconnected from the\\nvehicle\\nelectrical\\nsystem.\\n22. The system of claim 3, wherein the alternator comprises a three phase\\nalternator\\nand the control circuit further comprises a\\nbattery\\ncharging circuit\\nswitchably connecting a\\ntrickle charge line in communication with the\\nbattery\\nto a single phase output\\nof the three\\nphase alternator.\\n23. The system of claim 4, wherein the ripple filter comprises an input\\ncoupled to the\\nvoltage output of the generator and an output coupled to the\\nvehicle\\nelectrical\\nsystem,\\nwherein a ripple voltage of the voltage output is controlled when the\\nbattery\\nis disconnected\\nfrom the\\nvehicle\\nelectrical\\nsystem.\\n24. The system of claim 23, wherein the ripple voltage is reduced when the\\nbattery\\nis disconnected from the\\nvehicle\\nelectrical\\nsystem.\\n25. A control circuit for controlling a rate of recharge of a\\nbattery\\nin a\\nvehicle\\nelectrical\\nsystem and maintaining separate load and trickle charge voltage\\nlevels, wherein\\nthe\\nvehicle\\nelectrical\\nsystem is powered by a generator during\\nvehicle\\noperation, the control\\ncircuit comprising:\\na\\nbattery\\ndisconnect switch disposed between the\\nbattery\\nand the\\nvehicle\\nelectrical\\nsystem operable to\\nelectrically\\ndisconnect the\\nbattery\\nfrom the\\nvehicle\\nelectrical\\nsystem and\\nto reconnect the\\nbattery\\nto the\\nvehicle\\nelectrical\\nsystem;\\na\\nbattery\\ncharging circuit in\\nelectrical\\ncommunication with the\\nbattery\\nand\\nthe\\ngenerator;\\n- 18 -\\na processor in communication with the\\nbattery\\ndisconnect switch and the\\nbattery\\ncharging circuit; and\\nprogramming code operable on the processor to disconnect the\\nbattery\\nfrom the\\nvehicle\\nelectrical\\nsystem with the\\nbattery\\ndisconnect switch in response to a\\ngenerator\\nvoltage output below a threshold value, to control a recharge rate for the\\nbattery\\nwith the\\nbattery\\ncharging circuit while the\\nbattery\\nis disconnected from the\\nvehicle\\nelectrical\\nsystem,\\nand to reconnect the\\nbattery\\nto the\\nvehicle\\nelectrical\\nsystem in when the\\ngenerator voltage\\noutput is above the threshold value.\\n26. The system of claim 25, wherein the generator comprises an alternator.\\n27. The system of claim 26, wherein the control circuit further comprises a\\nripple\\nfilter.\\n28. The system of claim 27, wherein the ripple filter comprises an input\\ncoupled to\\nthe alternator voltage output and an output coupled to the\\nvehicle\\nelectrical\\nsystem, wherein\\na ripple voltage of the alternator output voltage is controlled when the\\nbattery\\nis\\ndisconnected from the\\nvehicle\\nelectrical\\nsystem.\\n-19-', Country='United States of America', Date='2002-05-07', English Title='SYSTEM AND METHOD FOR CONTROLLINGELECTRICLOAD ANDBATTERYCHARGE IN AVEHICLE', Filled Date='2003-05-05', French Title=\"SYSTEME ET METHODE DE COMMANDE DE LA CHARGE ELECTRIQUE ET DU CHARGEMENT D'UNE BATTERIE DANS UN VEHICULE\", Inventors='JABAJI, ISSAM, JABAJI, SHADI', Issued='2007-03-06', Language of Filling='English', Owners='C.E. NIEHOFF & CO.', Patent='CA 2427868', Title='Patent\\xa02427868\\xa0Summary - Canadian Patents Database', _id=Row(oid='660de17cfc8d9a4b3bc213dc')),\n",
       " Row(Abstract='Linvention a trait à un système de station de charge de type échange de batterie pour véhicule électrique qui permet un échange rapide et sûr de la batterie dun véhicule. Ledit système comprend une batterie rechargeable installée dans un module de fixation de batterie dun véhicule électrique, un corps de station de charge formé dune structure dans laquelle le véhicule électrique entre et sort librement et qui comprend une unité de chargement de batterie pour recevoir cette dernière, un robot de remplacement de batterie monté dans le corps de station de charge pour exécuter une opération de remplacement de batterie et une unité de commande de station de charge pour commander ledit robot de manière que lopération de remplacement de la batterie soit effectuée en commandant le robot.', Agent='GOWLING WLG (CANADA) LLP', App Number='NaN', Application Number=nan, Canadian Patent Classification='NaN', Claims='WHAT IS CLAIMED IS:\\n1. A\\nbattery\\nexchanging type charging station system for an\\nelectric\\nvehicle\\n,\\ncomprising:\\na charging type\\nbattery\\ninstalled on a\\nbattery\\nmounting module of the\\nelectric\\nvehicle\\n;\\na charging station body formed with a structure in which the\\nelectric\\nvehicle\\nfreely enters\\nand exits and including a\\nbattery\\nloading unit for receiving the\\nbattery\\n;\\na\\nbattery\\nreplacing robot mounted in the charging station body to perform a\\nbattery\\nreplacement operation; and\\na charging station control unit to control the\\nbattery\\nreplacing robot such\\nthat the\\nbattery\\nreplacement operation is performed by controlling the\\nbattery\\nreplacing robot;\\nwherein the charging station body is configured to include a vertical body\\nextending in a\\nvertical direction and coming in contact with a road, and a horizontal body\\nextending in a\\nhorizontal direction from a top portion of the vertical body toward the road.\\n2. The\\nbattery\\nexchanging type charging station system according to claim 1,\\nfurther\\ncomprising a communication module configured to receive reservation\\ninformation on\\nbattery\\nreplacement from the\\nelectric\\nvehicle\\nand provide confirmation information on\\nwhether the\\nreplacement is possible.\\n3. The\\nbattery\\nexchanging type charging station system according to claim 1,\\nwherein\\nthe charging station body includes a protection guide configured to seal the\\nbattery\\nmounting module with a built-in\\nbattery\\nwhen the\\nelectric\\nvehicle\\nenters the\\ncharging station\\nbody, in order to avoid ill effects according to changes in an external\\nenvironment when\\nreplacing the\\nbattery\\n.\\n26\\n4. The\\nbattery\\nexchanging type charging station system according to claim 3,\\nwherein\\nthe protection guide is configured with a corrugate tube that is folded toward\\nthe\\nbattery\\nmounting module from a state in which the\\nbattery\\nis mounted inside the\\ncharging station body\\nwhen the\\nbattery\\nis being replaced and that is unfolded to an original\\nposition after the\\nbattery\\nis\\nreplaced.\\n5. The\\nbattery\\nexchanging type charging station system according to claim 3,\\nwherein a\\nbottom of the horizontal body is provided with at least one outlet for\\nejecting the\\nbattery\\n, and the\\noutlet includes the protection guide.\\n6. The\\nbattery\\nexchanging type charging station system according to claim 5,\\nwherein\\nthe\\nbattery\\nloading unit is configured to have any one of a stacked storage\\nrack type\\nincluded in the vertical body in which a plurality of\\nbatteries\\nare arranged\\nso as to be formed in a\\nline at the left and right sides and the\\nbatteries\\nare again stacked over the\\nupper side of the line in\\na multi-layer structure, a parallel storage rack type in which the plurality\\nof\\nbatteries\\nare stored in\\nevery direction of the horizontal body, and a mixed storage rack type\\nincluding the stacked\\nstorage rack type and the parallel storage rack type.\\n7. The\\nbattery\\nexchanging type charging station system according to claim 1,\\nfurther\\ncomprising:\\na\\nvehicle\\nstop position guide unit configured to guide a stop position of the\\nelectric\\nvehicle\\nthat enters the charging station body to correspond to a\\nbattery\\nexchanging position.\\n8. The\\nbattery\\nexchanging type charging station system according to claim 3,\\nwherein\\nthe\\nbattery\\nmounting module includes a\\nbattery\\nseating base on which the\\nbattery\\nis\\nseated and having a terminal unit which\\nelectrically\\nconnects the\\nbattery\\n, a\\nplurality of fixing\\n27\\nunits which fix the\\nbattery\\nto the\\nbattery\\nseating base, and a mounting module\\ndoor installed to\\nseal a portion of the\\nbattery\\nseating base and opened when the\\nbattery\\nis\\nbeing replaced.\\n9. The\\nbattery\\nexchanging type charging station system according to claim 8,\\nwherein\\nthe\\nbattery\\nmounting module further includes a plurality of position decision\\nmembers\\ninserted in guide holes formed in the\\nbattery\\nsuch that the\\nbattery\\nis\\naccurately placed on the\\nbattery\\nseating base, and the\\nbattery\\nfixing unit is installed at the edge of\\nthe\\nbattery\\nseating base\\nand configured to include a locking hook for fixing the\\nbattery\\nand an elastic\\nmember for\\nmaintaining the fixed state by applying an elastic force to the locking hook.\\n10. The\\nbattery\\nexchanging type charging station system according to claim 8,\\nwherein\\nthe mounting module door is configured as a structure in which the protection\\ncover is\\nclosed and opened at the inner space surrounded by the protection guide such\\nthat the\\nbattery\\nis\\nnot exposed to the external environment when the\\nbattery\\nis being replaced.\\n11. The\\nbattery\\nexchanging type charging station system according to any one\\nof claims\\n1 to 10, wherein the\\nbattery\\nreplacing robot includes:\\na\\nbattery\\ntransporting and mounting robot that removes a discharged\\nbattery\\nmounted in\\nthe\\nbattery\\nmounting module and then transports a fully charged\\nbattery\\n, which\\nis ejected from\\nthe\\nbattery\\nloading unit, and mounts the fully charged\\nbattery\\non the\\nbattery\\nmounting module;\\nand\\na\\nbattery\\nejecting and loading robot that ejects the fully charged\\nbattery\\nstored in the\\nbattery\\nloading unit and then provides the fully charged\\nbattery\\nto the\\nbattery\\ntransporting and\\nmounting robot, or receives the discharged\\nbattery\\nfrom the\\nbattery\\ntransporting and mounting\\nrobot, and then loads the discharged\\nbattery\\ninto the\\nbattery\\nloading unit.\\n28\\n12. The\\nbattery\\nexchanging type charging station system according to claim 11,\\nwherein\\nthe\\nbattery\\ntransporting and mounting robot includes a fixed rail installed at\\nthe upper\\nportion of the charging station body, a transporting rail installed to be\\nmoved in a direction\\northogonal to the fixed rail, an elevating rail installed to be moved along\\nthe longitudinal\\ndirection of the transporting rail, or in a direction orthogonal to the\\ntransporting rail, and a\\nclamping unit installed at the bottom of the elevating rod to perform locking\\nand unlocking\\noperations in the process of replacing the\\nbattery\\n.\\n29', Country='NaN', Date='NaN', English Title='BATTERYEXCHANGING-TYPE CHARGING STATION SYSTEM FORELECTRICVEHICLE', Filled Date='2012-06-22', French Title='SYSTEME DE STATION DE CHARGEMENT DE TYPE A ECHANGE DE BATTERIE POUR VEHICULE ELECTRIQUE', Inventors='PARK, JUN SEOK, KIM, WON-KYU, PARK, HEE-JEING, MOON, HEE SEOK, CHOI, WOONGCHUL, JEONG, JAYIL, YU, CHI MAN, JUNG, DO YANG, SHIN, YONG-HARK, PARK, JAE-HONG', Issued='2015-11-24', Language of Filling='English', Owners='KOOKMIN UNIVERSITY INDUSTRY ACADEMY COOPERATION FOUNDATION', Patent='CA 2781513', Title='Patent\\xa02781513\\xa0Summary - Canadian Patents Database', _id=Row(oid='660de17cfc8d9a4b3bc213dd'))]"
      ]
     },
     "execution_count": 4,
     "metadata": {},
     "output_type": "execute_result"
    }
   ],
   "source": [
    "df.take(5)"
   ]
  },
  {
   "cell_type": "code",
   "execution_count": 5,
   "id": "b25722c1",
   "metadata": {},
   "outputs": [
    {
     "data": {
      "text/plain": [
       "465"
      ]
     },
     "execution_count": 5,
     "metadata": {},
     "output_type": "execute_result"
    }
   ],
   "source": [
    "df.count()"
   ]
  },
  {
   "cell_type": "code",
   "execution_count": 6,
   "id": "2f6f2e28",
   "metadata": {},
   "outputs": [
    {
     "name": "stdout",
     "output_type": "stream",
     "text": [
      "root\n",
      " |-- Abstract: string (nullable = true)\n",
      " |-- Agent: string (nullable = true)\n",
      " |-- App_Number: string (nullable = true)\n",
      " |-- Application_Number: double (nullable = true)\n",
      " |-- Canadian_Patent_Classification: string (nullable = true)\n",
      " |-- Claims: string (nullable = true)\n",
      " |-- Country: string (nullable = true)\n",
      " |-- Date: string (nullable = true)\n",
      " |-- English_Title: string (nullable = true)\n",
      " |-- Filled_Date: string (nullable = true)\n",
      " |-- French_Title: string (nullable = true)\n",
      " |-- Inventors: string (nullable = true)\n",
      " |-- Issued: string (nullable = true)\n",
      " |-- Language_of_Filling: string (nullable = true)\n",
      " |-- Owners: string (nullable = true)\n",
      " |-- Patent: string (nullable = true)\n",
      " |-- Title: string (nullable = true)\n",
      " |-- _id: struct (nullable = true)\n",
      " |    |-- oid: string (nullable = true)\n",
      "\n"
     ]
    }
   ],
   "source": [
    "# Replace spaces with underscores in column names\n",
    "new_column_names = [col.replace(' ', '_') for col in df.columns]\n",
    "\n",
    "# Apply the new column names to the DataFrame\n",
    "for old_name, new_name in zip(df.columns, new_column_names):\n",
    "    df = df.withColumnRenamed(old_name, new_name)\n",
    "\n",
    "# Show the DataFrame schema with modified column names\n",
    "df.printSchema()"
   ]
  },
  {
   "cell_type": "code",
   "execution_count": 7,
   "id": "c8863707",
   "metadata": {},
   "outputs": [],
   "source": [
    "df.createOrReplaceTempView(\"CNDpatents\")"
   ]
  },
  {
   "cell_type": "markdown",
   "id": "0fe4395f",
   "metadata": {},
   "source": [
    "### 01-Analyzing the field -Country- "
   ]
  },
  {
   "cell_type": "code",
   "execution_count": 9,
   "id": "9b299a9f",
   "metadata": {},
   "outputs": [
    {
     "name": "stdout",
     "output_type": "stream",
     "text": [
      "+-------------------------------------------------------------------+----------+\n",
      "|Country                                                            |NumPatents|\n",
      "+-------------------------------------------------------------------+----------+\n",
      "|United States of America                                           |265       |\n",
      "|Japan                                                              |65        |\n",
      "|NaN                                                                |38        |\n",
      "|China                                                              |21        |\n",
      "|Germany                                                            |10        |\n",
      "|Republic of Korea                                                  |8         |\n",
      "|Netherlands (Kingdom of the)                                       |8         |\n",
      "|United Kingdom                                                     |8         |\n",
      "|European Patent Office (EPO)                                       |7         |\n",
      "|Italy                                                              |6         |\n",
      "|Australia                                                          |6         |\n",
      "|Sweden                                                             |4         |\n",
      "|Canada                                                             |4         |\n",
      "|Austria                                                            |4         |\n",
      "|France                                                             |3         |\n",
      "|India                                                              |2         |\n",
      "|Norway                                                             |1         |\n",
      "|Spain                                                              |1         |\n",
      "|Mexico                                                             |1         |\n",
      "|Taiwan, Province of China                                          |1         |\n",
      "|New Zealand                                                        |1         |\n",
      "|International Bureau of the World Intellectual Property Org. (WIPO)|1         |\n",
      "+-------------------------------------------------------------------+----------+\n",
      "\n"
     ]
    }
   ],
   "source": [
    "result = spark.sql(\"\"\"\n",
    "    SELECT Country, COUNT(*) AS NumPatents\n",
    "    FROM CNDpatents\n",
    "    GROUP BY Country\n",
    "    ORDER BY NumPatents DESC\n",
    "\"\"\")\n",
    "result.show(22, False)"
   ]
  },
  {
   "cell_type": "markdown",
   "id": "9746044a",
   "metadata": {},
   "source": [
    "- Geographical Distribution: The majority of patents in the dataset are from the United States of America, indicating a strong presence of innovation and patent activity in the US.\n",
    "- Strong Patent Activity in East Asia: Japan and China follow the United States with a significant number of patents. This suggests a robust innovation ecosystem in these countries.\n",
    "- European Patent Landscape: European countries such as Germany, the Netherlands, the United Kingdom, and the European Patent Office (EPO) collectively contribute a notable number of patents, highlighting Europe's innovation landscape.\n",
    "- Moderate Contributions: Countries like Australia, Italy, Sweden, and Austria maintain a moderate number of patents, indicating a steady level of innovation activity."
   ]
  },
  {
   "cell_type": "markdown",
   "id": "59f5ad96",
   "metadata": {},
   "source": [
    "### 02-Analyzing the field -Date- "
   ]
  },
  {
   "cell_type": "markdown",
   "id": "07d322d3",
   "metadata": {},
   "source": [
    "#### --Filed Date--"
   ]
  },
  {
   "cell_type": "code",
   "execution_count": 26,
   "id": "e5d5b54a",
   "metadata": {},
   "outputs": [
    {
     "name": "stdout",
     "output_type": "stream",
     "text": [
      "+----+--------+\n",
      "|year|count(1)|\n",
      "+----+--------+\n",
      "|2022|      32|\n",
      "|2021|      31|\n",
      "|2020|      28|\n",
      "|2019|      27|\n",
      "|2018|      24|\n",
      "|2017|      22|\n",
      "|2016|      19|\n",
      "|2015|      24|\n",
      "|2014|      26|\n",
      "|2013|      23|\n",
      "|2012|      36|\n",
      "|2011|      19|\n",
      "|2010|      23|\n",
      "|2009|      15|\n",
      "|2008|      20|\n",
      "|2007|       3|\n",
      "|2006|      19|\n",
      "|2005|       5|\n",
      "|2004|       9|\n",
      "|2003|       4|\n",
      "|2002|       8|\n",
      "|2001|       7|\n",
      "|2000|       5|\n",
      "|1999|       8|\n",
      "|1998|      13|\n",
      "|1997|       1|\n",
      "|1996|       8|\n",
      "|1994|       2|\n",
      "|1992|       2|\n",
      "|1990|       2|\n",
      "+----+--------+\n",
      "\n"
     ]
    }
   ],
   "source": [
    "spark.sql(\"\"\"\n",
    "    SELECT YEAR(CAST(Filled_Date as date)) as year, count(*)  FROM CNDpatents GROUP BY year ORDER BY year DESC LIMIT ALL\n",
    "\"\"\").show(31)"
   ]
  },
  {
   "cell_type": "markdown",
   "id": "147f2c6e",
   "metadata": {},
   "source": [
    "- Patent Filing Changes Over Time: The number of patents being filed changes from year to year. Sometimes more patents are filed, and other times fewer.\n",
    "- Recent Years: In the past few years, around 30 patents were filed each year, showing a steady amount of innovation.\n",
    "- Peak Years: The years 2012 and 2022 had more patents filed compared to other years, suggesting periods of high innovation or focus on patenting.\n",
    "- Historical Trends: In earlier years, there were fewer patents filed compared to recent years. This could be because of different factors like less innovation or fewer filings.\n",
    "- Drop in Filings: In 2007, there were only 3 patents filed, which is much lower than usual. This might be due to economic problems or other reasons.\n",
    "- Long-Term Perspective: Overall, there were fewer patents filed in the early 2000s and late 1990s, with less than 10 patents filed each year during those times."
   ]
  },
  {
   "cell_type": "markdown",
   "id": "8514a26c",
   "metadata": {},
   "source": [
    "#### --Issued Date-- "
   ]
  },
  {
   "cell_type": "code",
   "execution_count": 34,
   "id": "9d9f69a8",
   "metadata": {},
   "outputs": [
    {
     "name": "stdout",
     "output_type": "stream",
     "text": [
      "+----+--------+\n",
      "|year|count(1)|\n",
      "+----+--------+\n",
      "|2024|       3|\n",
      "|2023|      18|\n",
      "|2022|      13|\n",
      "|2021|      22|\n",
      "|2020|      13|\n",
      "|2019|      21|\n",
      "|2018|      19|\n",
      "|2017|      18|\n",
      "|2016|      14|\n",
      "|2015|      20|\n",
      "|2014|       9|\n",
      "|2013|       9|\n",
      "|2012|      12|\n",
      "|2011|       8|\n",
      "|2010|       5|\n",
      "|2009|       4|\n",
      "|2008|       2|\n",
      "|2007|       9|\n",
      "|2006|       7|\n",
      "|2005|       5|\n",
      "|2004|       8|\n",
      "|2003|       2|\n",
      "|2002|       1|\n",
      "|2001|       2|\n",
      "|2000|       2|\n",
      "|1997|       2|\n",
      "|NULL|     217|\n",
      "+----+--------+\n",
      "\n"
     ]
    }
   ],
   "source": [
    "spark.sql(\"\"\"\n",
    "    SELECT YEAR(CAST(Issued as date)) as year, count(*)  FROM CNDpatents GROUP BY year ORDER BY year DESC LIMIT ALL\n",
    "\"\"\").show(27)"
   ]
  },
  {
   "cell_type": "markdown",
   "id": "cace8ff0",
   "metadata": {},
   "source": [
    "- Recent Years: Patent issuances seem to have been consistent over the past few years, with varying numbers but generally within the range of 10 to 20 patents per year.\n",
    "- Variability in Issuances: While there's a general trend of patent issuances being fairly steady, there are fluctuations from year to year. For instance, 2021 saw a relatively high number of 22 patents issued, while 2010 had only 5.\n",
    "- Decrease in Earlier Years: The number of patents issued appears to decrease as we go back in time. For instance, in the mid-2000s, there were more patents issued compared to the late 1990s and early 2000s.\n",
    "- Presence of NULL Values: It's worth noting that there's a significant number of NULL values in the data (217), which likely represents missing or unspecified issuance years.\n",
    "- No Issuances in Some Years: There are a few years where no patents were issued according to the dataset, such as 2002 and 2001, suggesting potential gaps in the data or periods with no patent issuances."
   ]
  },
  {
   "cell_type": "markdown",
   "id": "884f9126",
   "metadata": {},
   "source": [
    "### 03-Analyzing the field -Abstract- "
   ]
  },
  {
   "cell_type": "code",
   "execution_count": 36,
   "id": "ca7a99ff",
   "metadata": {},
   "outputs": [
    {
     "name": "stdout",
     "output_type": "stream",
     "text": [
      "+--------+-----+----------+------------------+------------------------------+------+-------+----+-------------+-----------+------------+---------+------+-------------------+------+------+-----+---+\n",
      "|Abstract|Agent|App_Number|Application_Number|Canadian_Patent_Classification|Claims|Country|Date|English_Title|Filled_Date|French_Title|Inventors|Issued|Language_of_Filling|Owners|Patent|Title|_id|\n",
      "+--------+-----+----------+------------------+------------------------------+------+-------+----+-------------+-----------+------------+---------+------+-------------------+------+------+-----+---+\n",
      "+--------+-----+----------+------------------+------------------------------+------+-------+----+-------------+-----------+------------+---------+------+-------------------+------+------+-----+---+\n",
      "\n"
     ]
    }
   ],
   "source": [
    "spark.sql(\"\"\"\n",
    "    SELECT *  FROM CNDpatents WHERE abstract IS NULL OR abstract=''\n",
    "\"\"\").show()"
   ]
  },
  {
   "cell_type": "markdown",
   "id": "038057aa",
   "metadata": {},
   "source": [
    "#### We can clearly see that there are no records where the Abstract is either NULL or an empty string."
   ]
  },
  {
   "cell_type": "markdown",
   "id": "fd88cb9b",
   "metadata": {},
   "source": [
    "### 04-Analyzing the field -Title- "
   ]
  },
  {
   "cell_type": "code",
   "execution_count": 94,
   "id": "deaa6407",
   "metadata": {},
   "outputs": [
    {
     "name": "stdout",
     "output_type": "stream",
     "text": [
      "+--------+-----+----------+------------------+------------------------------+------+-------+----+-------------+-----------+------------+---------+------+-------------------+------+------+-----+---+\n",
      "|Abstract|Agent|App_Number|Application_Number|Canadian_Patent_Classification|Claims|Country|Date|English_Title|Filled_Date|French_Title|Inventors|Issued|Language_of_Filling|Owners|Patent|Title|_id|\n",
      "+--------+-----+----------+------------------+------------------------------+------+-------+----+-------------+-----------+------------+---------+------+-------------------+------+------+-----+---+\n",
      "+--------+-----+----------+------------------+------------------------------+------+-------+----+-------------+-----------+------------+---------+------+-------------------+------+------+-----+---+\n",
      "\n"
     ]
    }
   ],
   "source": [
    "spark.sql(\"\"\"\n",
    "    SELECT *  FROM CNDpatents WHERE Title IS NULL OR Title=''\n",
    "\"\"\").show()"
   ]
  },
  {
   "cell_type": "markdown",
   "id": "04c23612",
   "metadata": {},
   "source": [
    "#### Same."
   ]
  },
  {
   "cell_type": "markdown",
   "id": "efa56689",
   "metadata": {},
   "source": [
    "### 05-Analyzing the field -Language of Filling-"
   ]
  },
  {
   "cell_type": "code",
   "execution_count": 42,
   "id": "3f66059a",
   "metadata": {},
   "outputs": [
    {
     "name": "stdout",
     "output_type": "stream",
     "text": [
      "+-------------------+\n",
      "|Language_of_Filling|\n",
      "+-------------------+\n",
      "|English            |\n",
      "|French             |\n",
      "+-------------------+\n",
      "\n"
     ]
    }
   ],
   "source": [
    "spark.sql(\"\"\"\n",
    "    SELECT DISTINCT Language_of_Filling FROM CNDpatents\n",
    "\"\"\").show(2, False)"
   ]
  },
  {
   "cell_type": "markdown",
   "id": "db510ea8",
   "metadata": {},
   "source": [
    "#### It seems like our dataset contains patent filings in two distinct languages: English and French. "
   ]
  },
  {
   "cell_type": "markdown",
   "id": "6fa85968",
   "metadata": {},
   "source": [
    "### 06-Analyzing the field -Patent Application-"
   ]
  },
  {
   "cell_type": "code",
   "execution_count": 92,
   "id": "86d3a55b",
   "metadata": {},
   "outputs": [
    {
     "name": "stdout",
     "output_type": "stream",
     "text": [
      "+--------+-----+----------+------------------+------------------------------+------+-------+----+-------------+-----------+------------+---------+------+-------------------+------+------+-----+---+\n",
      "|Abstract|Agent|App_Number|Application_Number|Canadian_Patent_Classification|Claims|Country|Date|English_Title|Filled_Date|French_Title|Inventors|Issued|Language_of_Filling|Owners|Patent|Title|_id|\n",
      "+--------+-----+----------+------------------+------------------------------+------+-------+----+-------------+-----------+------------+---------+------+-------------------+------+------+-----+---+\n",
      "+--------+-----+----------+------------------+------------------------------+------+-------+----+-------------+-----------+------------+---------+------+-------------------+------+------+-----+---+\n",
      "\n"
     ]
    }
   ],
   "source": [
    "spark.sql(\"\"\"\n",
    "    SELECT *  FROM CNDpatents WHERE Patent IS NULL OR Patent=''\n",
    "\"\"\").show()"
   ]
  },
  {
   "cell_type": "markdown",
   "id": "38d1b0b4",
   "metadata": {},
   "source": [
    "#### We can clearly see that there are no records where the Patent Application is either NULL or an empty string."
   ]
  },
  {
   "cell_type": "markdown",
   "id": "fdd0d1f8",
   "metadata": {},
   "source": [
    "### 07-Analyzing the field -Application Number-"
   ]
  },
  {
   "cell_type": "code",
   "execution_count": 93,
   "id": "bde0743f",
   "metadata": {},
   "outputs": [
    {
     "name": "stdout",
     "output_type": "stream",
     "text": [
      "+--------+-----+----------+------------------+------------------------------+------+-------+----+-------------+-----------+------------+---------+------+-------------------+------+------+-----+---+\n",
      "|Abstract|Agent|App_Number|Application_Number|Canadian_Patent_Classification|Claims|Country|Date|English_Title|Filled_Date|French_Title|Inventors|Issued|Language_of_Filling|Owners|Patent|Title|_id|\n",
      "+--------+-----+----------+------------------+------------------------------+------+-------+----+-------------+-----------+------------+---------+------+-------------------+------+------+-----+---+\n",
      "+--------+-----+----------+------------------+------------------------------+------+-------+----+-------------+-----------+------------+---------+------+-------------------+------+------+-----+---+\n",
      "\n"
     ]
    }
   ],
   "source": [
    "spark.sql(\"\"\"\n",
    "    SELECT *  FROM CNDpatents WHERE App_Number IS NULL OR App_Number=''\n",
    "\"\"\").show()"
   ]
  },
  {
   "cell_type": "markdown",
   "id": "21de79b7",
   "metadata": {},
   "source": [
    "#### Same. "
   ]
  },
  {
   "cell_type": "code",
   "execution_count": 46,
   "id": "347da33b",
   "metadata": {},
   "outputs": [
    {
     "name": "stdout",
     "output_type": "stream",
     "text": [
      "+-------------+\n",
      "|unique_number|\n",
      "+-------------+\n",
      "|          302|\n",
      "+-------------+\n",
      "\n"
     ]
    }
   ],
   "source": [
    "spark.sql(\"\"\"\n",
    "    SELECT COUNT(DISTINCT App_Number) as unique_number FROM CNDpatents\n",
    "\"\"\").show()"
   ]
  },
  {
   "cell_type": "markdown",
   "id": "afd969b5",
   "metadata": {},
   "source": [
    "### 08-Analyzing the field -Inventors-"
   ]
  },
  {
   "cell_type": "code",
   "execution_count": 91,
   "id": "418e2bba",
   "metadata": {},
   "outputs": [
    {
     "name": "stdout",
     "output_type": "stream",
     "text": [
      "+--------+-----+----------+------------------+------------------------------+------+-------+----+-------------+-----------+------------+---------+------+-------------------+------+------+-----+---+\n",
      "|Abstract|Agent|App_Number|Application_Number|Canadian_Patent_Classification|Claims|Country|Date|English_Title|Filled_Date|French_Title|Inventors|Issued|Language_of_Filling|Owners|Patent|Title|_id|\n",
      "+--------+-----+----------+------------------+------------------------------+------+-------+----+-------------+-----------+------------+---------+------+-------------------+------+------+-----+---+\n",
      "+--------+-----+----------+------------------+------------------------------+------+-------+----+-------------+-----------+------------+---------+------+-------------------+------+------+-----+---+\n",
      "\n"
     ]
    }
   ],
   "source": [
    "spark.sql(\"\"\"\n",
    "    SELECT *  FROM CNDpatents WHERE Inventors IS NULL OR Inventors=''\n",
    "\"\"\").show()"
   ]
  },
  {
   "cell_type": "markdown",
   "id": "f0045062",
   "metadata": {},
   "source": [
    "#### Same."
   ]
  },
  {
   "cell_type": "code",
   "execution_count": 30,
   "id": "2b0e1174",
   "metadata": {
    "scrolled": false
   },
   "outputs": [
    {
     "name": "stdout",
     "output_type": "stream",
     "text": [
      "+--------------------+-----+\n",
      "|           Inventors|count|\n",
      "+--------------------+-----+\n",
      "|URRA, CHRISTIAN, ...|    2|\n",
      "|        HICKEY, KYLE|    2|\n",
      "|BIAGINI, ERIC, CO...|    2|\n",
      "|BISHOP, JULIAN J....|    2|\n",
      "|WU, XINGCHI, WANG...|    4|\n",
      "|     INSKEEP, MATHEW|    2|\n",
      "|HUGHES, PETER S.,...|    2|\n",
      "|HIGH, DONALD R., ...|    2|\n",
      "|KAWATANI, SHINJI,...|    3|\n",
      "|     UCHIYAMA, NAOKI|    2|\n",
      "|AGASSI, SHAI, HER...|    2|\n",
      "|  MILLER, STANTON E.|    3|\n",
      "|NOOK, JONATHAN LE...|    5|\n",
      "|INSKEEP, MATHEW, ...|    2|\n",
      "|SEVERINSKY, ALEX ...|    2|\n",
      "|KARDOLUS, MENNO, ...|    2|\n",
      "|JIN, ZHIHONG H., ...|    2|\n",
      "|CHEN, LIQIANG, WA...|    2|\n",
      "|DASGUPTA, SANKAR,...|    3|\n",
      "|   HEINEMANN, STEFAN|    2|\n",
      "|HUGHES, TIMOTHY E...|    2|\n",
      "|STANFIELD, JAMES ...|    2|\n",
      "|JABAJI, ISSAM, JA...|    3|\n",
      "|       BOUMAN, CRIJN|    4|\n",
      "|SHIRATA, AKIHIRO,...|    2|\n",
      "|          BEAN, ADAM|    2|\n",
      "|SCHUMACHER, ULI E...|    2|\n",
      "|PARK, JUN-SEOK, K...|    2|\n",
      "|KINTNER-MEYER, MI...|    2|\n",
      "|YU, CHI-MAN, SIM,...|    2|\n",
      "|ZHANG, JIANPING, ...|    2|\n",
      "|SCHULER, NATHAN L...|    2|\n",
      "|HASSOUNAH, KHALED...|    2|\n",
      "|OKADA, MEGUMU, YA...|    2|\n",
      "|HUGHES, DOUGLAS A...|    4|\n",
      "|LI, HSUNSHENG, YU...|    2|\n",
      "|       TAMAKI, KENJI|    2|\n",
      "|        NOR, JIRI K.|    4|\n",
      "|SNOW, CHRISTOPHER E.|    2|\n",
      "|BUHS, FLORIAN, LA...|    2|\n",
      "|CLARK, BRIAN M., ...|    4|\n",
      "|      WEN, CHUNG-WEI|    3|\n",
      "|YANG, ANTHONY ANT...|    3|\n",
      "|AGASSI, SHAI, ZAR...|    2|\n",
      "|CHOLEWA, PAWEL, R...|    2|\n",
      "|HICKEY, KYLE, MEH...|    2|\n",
      "|ABE, TOMOHIRO, TA...|    4|\n",
      "|VALDEVIT, RICHARD...|    2|\n",
      "|RUMBAUGH, SCOTT, ...|    2|\n",
      "|FURUKAWA, JUN, MO...|    2|\n",
      "|CROFUT, CHUCK J.,...|    2|\n",
      "|HIGH, DONALD R., ...|    2|\n",
      "|HUFF, BRIAN R., H...|    5|\n",
      "|DROSENDAHL, STEVE...|    4|\n",
      "|TALIOS, BILL, BIS...|    2|\n",
      "|CHANG, HSIN-YUAN,...|    2|\n",
      "|LAMBERT, GHISLAIN...|    2|\n",
      "|WOOD, SR., ROBERT...|    4|\n",
      "|  ANTROBUS, CRAIG L.|    2|\n",
      "|KIRCHMAIR, MARTIN...|    2|\n",
      "|      LUNDSTROM, DAG|    2|\n",
      "|SUGENO, NAOYUKI, ...|    2|\n",
      "|WOOD, SR., ROBERT...|    2|\n",
      "|             JIN, PU|    2|\n",
      "|KANG, JIHOON, PAR...|    2|\n",
      "+--------------------+-----+\n",
      "only showing top 65 rows\n",
      "\n"
     ]
    }
   ],
   "source": [
    "spark.sql(\"\"\"\n",
    "    SELECT Inventors, COUNT(*) AS count\n",
    "    FROM CNDpatents\n",
    "    GROUP BY Inventors\n",
    "    HAVING count > 1\n",
    "\"\"\").show(65)"
   ]
  },
  {
   "cell_type": "code",
   "execution_count": 29,
   "id": "4a4ac6f6",
   "metadata": {},
   "outputs": [
    {
     "name": "stdout",
     "output_type": "stream",
     "text": [
      "+--------------------+--------------------+---------+\n",
      "|    Primary_Inventor|          CoInventor|CoPatents|\n",
      "+--------------------+--------------------+---------+\n",
      "|ABE, TOMOHIRO, TA...|IJAZ, MUJEEB, MOO...|       24|\n",
      "|ABE, TOMOHIRO, TA...|NOOK, JONATHAN LE...|       20|\n",
      "|ABE, TOMOHIRO, TA...|      WEFLEN, DARRYL|       20|\n",
      "|ABE, TOMOHIRO, TA...|LYONS, ARTHUR P.,...|       20|\n",
      "|ABE, TOMOHIRO, TA...|HUFF, BRIAN R., H...|       20|\n",
      "|ABE, TOMOHIRO, TA...|DROSENDAHL, STEVE...|       16|\n",
      "|ABE, TOMOHIRO, TA...|STENBERG, KURT E....|       16|\n",
      "|ABE, TOMOHIRO, TA...|        SHAM, WELLEN|       16|\n",
      "|ABE, TOMOHIRO, TA...|         YU, CHI-MAN|       16|\n",
      "|ABE, TOMOHIRO, TA...|HUGHES, DOUGLAS A...|       16|\n",
      "|ABE, TOMOHIRO, TA...|WOOD, SR., ROBERT...|       16|\n",
      "|ABE, TOMOHIRO, TA...|WU, XINGCHI, WANG...|       16|\n",
      "|ABE, TOMOHIRO, TA...|CLARK, BRIAN M., ...|       16|\n",
      "|ABE, TOMOHIRO, TA...|       BOUMAN, CRIJN|       16|\n",
      "|ABE, TOMOHIRO, TA...|        NOR, JIRI K.|       16|\n",
      "|ABE, TOMOHIRO, TA...|YANG, ANTHONY ANT...|       12|\n",
      "|ABE, TOMOHIRO, TA...|PARK, JUN SEOK, K...|       12|\n",
      "|ABE, TOMOHIRO, TA...|      WEN, CHUNG-WEI|       12|\n",
      "|ABE, TOMOHIRO, TA...|DASGUPTA, SANKAR,...|       12|\n",
      "|ABE, TOMOHIRO, TA...|STANFIELD, JAMES ...|       12|\n",
      "|ABE, TOMOHIRO, TA...|JABAJI, ISSAM, JA...|       12|\n",
      "|ABE, TOMOHIRO, TA...|KAWATANI, SHINJI,...|       12|\n",
      "|ABE, TOMOHIRO, TA...|  MILLER, STANTON E.|       12|\n",
      "|ABE, TOMOHIRO, TA...|SEKI, HIDEMI, ITO...|        8|\n",
      "|ABE, TOMOHIRO, TA...|BOTTS, RICHARD ED...|        8|\n",
      "|ABE, TOMOHIRO, TA...|ISHKAWA, JUN, NAK...|        8|\n",
      "|ABE, TOMOHIRO, TA...|SUGENO, NAOYUKI, ...|        8|\n",
      "|ABE, TOMOHIRO, TA...|ZHENG, WEIXIN, ZH...|        8|\n",
      "|ABE, TOMOHIRO, TA...|ROHERA, HEMANT KA...|        8|\n",
      "|ABE, TOMOHIRO, TA...|TREMBLAY, LOUIS, ...|        8|\n",
      "|ABE, TOMOHIRO, TA...|JORNA, HARM, VAN ...|        8|\n",
      "|ABE, TOMOHIRO, TA...|PARK, JUN-SEOK, K...|        8|\n",
      "|ABE, TOMOHIRO, TA...|BISHOP, JULIAN J....|        8|\n",
      "|ABE, TOMOHIRO, TA...|          BEAN, ADAM|        8|\n",
      "|ABE, TOMOHIRO, TA...|TALIOS, BILL, BIS...|        8|\n",
      "|ABE, TOMOHIRO, TA...|FURUKAWA, JUN, MO...|        8|\n",
      "|ABE, TOMOHIRO, TA...|HUGHES, TIMOTHY E...|        8|\n",
      "|ABE, TOMOHIRO, TA...|  YAMAZAKI, YUICHIRO|        8|\n",
      "|ABE, TOMOHIRO, TA...|     UCHIYAMA, NAOKI|        8|\n",
      "|ABE, TOMOHIRO, TA...|HUGHES, PETER S.,...|        8|\n",
      "|ABE, TOMOHIRO, TA...|BRIDWELL, RANDOLP...|        8|\n",
      "|ABE, TOMOHIRO, TA...|AGASSI, SHAI, ZAR...|        8|\n",
      "|ABE, TOMOHIRO, TA...|KANG, JIHOON, PAR...|        8|\n",
      "|ABE, TOMOHIRO, TA...|        PETER, MASON|        8|\n",
      "|ABE, TOMOHIRO, TA...|DEMERS, JEROME, L...|        8|\n",
      "|ABE, TOMOHIRO, TA...|  ANTROBUS, CRAIG L.|        8|\n",
      "|ABE, TOMOHIRO, TA...|HIGH, DONALD R., ...|        8|\n",
      "|ABE, TOMOHIRO, TA...|SCHYGGE, SEBASTIA...|        8|\n",
      "|ABE, TOMOHIRO, TA...|HANNA, MARK HOLBR...|        8|\n",
      "|ABE, TOMOHIRO, TA...|SEVERINSKY, ALEX ...|        8|\n",
      "|ABE, TOMOHIRO, TA...|YU, CHI-MAN, SIM,...|        8|\n",
      "|ABE, TOMOHIRO, TA...|CHOLEWA, PAWEL, R...|        8|\n",
      "|ABE, TOMOHIRO, TA...|SNOW, CHRISTOPHER E.|        8|\n",
      "|ABE, TOMOHIRO, TA...|HASSOUNAH, KHALED...|        8|\n",
      "|ABE, TOMOHIRO, TA...|MCKIBBEN, ETHAN J...|        8|\n",
      "|ABE, TOMOHIRO, TA...|DYER, CHRISTOPHER...|        8|\n",
      "|ABE, TOMOHIRO, TA...|LEHN, PETER WALDE...|        8|\n",
      "|ABE, TOMOHIRO, TA...|WILLIAMS, GARY, T...|        8|\n",
      "|ABE, TOMOHIRO, TA...|KIRCHMAIR, MARTIN...|        8|\n",
      "|ABE, TOMOHIRO, TA...|KINTNER-MEYER, MI...|        8|\n",
      "|ABE, TOMOHIRO, TA...|    TAMAGAWA, YUTAKA|        8|\n",
      "|ABE, TOMOHIRO, TA...|SCHUMACHER, ULI E...|        8|\n",
      "|ABE, TOMOHIRO, TA...|HICKEY, KYLE, MEH...|        8|\n",
      "|ABE, TOMOHIRO, TA...|BIAGINI, ERIC, CO...|        8|\n",
      "|ABE, TOMOHIRO, TA...|SHIRATA, AKIHIRO,...|        8|\n",
      "+--------------------+--------------------+---------+\n",
      "only showing top 65 rows\n",
      "\n"
     ]
    }
   ],
   "source": [
    "spark.sql(\"\"\"\n",
    "SELECT Inventors AS Primary_Inventor, CoInventor, COUNT(*) AS CoPatents\n",
    "FROM (\n",
    "    SELECT a.Inventors, b.Inventors AS CoInventor\n",
    "    FROM CNDpatents a\n",
    "    JOIN CNDpatents b ON a.Patent != b.Patent AND a.Inventors != b.Inventors\n",
    ") co\n",
    "GROUP BY Inventors, CoInventor\n",
    "ORDER BY Primary_Inventor, CoPatents DESC\n",
    "\"\"\").show(65)"
   ]
  },
  {
   "cell_type": "markdown",
   "id": "99eb8ae9",
   "metadata": {},
   "source": [
    "### 09-Analyzing the field -Owners-"
   ]
  },
  {
   "cell_type": "code",
   "execution_count": 90,
   "id": "7204343f",
   "metadata": {},
   "outputs": [
    {
     "name": "stdout",
     "output_type": "stream",
     "text": [
      "+--------+-----+----------+------------------+------------------------------+------+-------+----+-------------+-----------+------------+---------+------+-------------------+------+------+-----+---+\n",
      "|Abstract|Agent|App_Number|Application_Number|Canadian_Patent_Classification|Claims|Country|Date|English_Title|Filled_Date|French_Title|Inventors|Issued|Language_of_Filling|Owners|Patent|Title|_id|\n",
      "+--------+-----+----------+------------------+------------------------------+------+-------+----+-------------+-----------+------------+---------+------+-------------------+------+------+-----+---+\n",
      "+--------+-----+----------+------------------+------------------------------+------+-------+----+-------------+-----------+------------+---------+------+-------------------+------+------+-----+---+\n",
      "\n"
     ]
    }
   ],
   "source": [
    "spark.sql(\"\"\"\n",
    "    SELECT *  FROM CNDpatents WHERE Owners IS NULL OR Owners=''\n",
    "\"\"\").show()"
   ]
  },
  {
   "cell_type": "code",
   "execution_count": 32,
   "id": "7e046a1d",
   "metadata": {},
   "outputs": [
    {
     "name": "stdout",
     "output_type": "stream",
     "text": [
      "+--------------------+-----+\n",
      "|              Owners|count|\n",
      "+--------------------+-----+\n",
      "|HONDA MOTOR CO., ...|   26|\n",
      "| BYD COMPANY LIMITED|   13|\n",
      "|    THE NOCO COMPANY|   11|\n",
      "|NISSAN MOTOR CO.,...|   11|\n",
      "|ALEEES ECO ARK (C...|   11|\n",
      "|INTERNATIONAL TRU...|    9|\n",
      "|SYSTEMATIC POWER ...|    8|\n",
      "|MOTEX PRODUCTS CO...|    7|\n",
      "|BAE SYSTEMS CONTR...|    7|\n",
      "|OUR NEXT ENERGY, ...|    6|\n",
      "|VECTOR PRODUCTS, ...|    6|\n",
      "|        MATTEL, INC.|    6|\n",
      "| ABB E-MOBILITY B.V.|    6|\n",
      "|MURATA MANUFACTUR...|    6|\n",
      "|ARTISAN VEHICLE S...|    6|\n",
      "|   BETTER PLACE GMBH|    5|\n",
      "|BATTELLE MEMORIAL...|    5|\n",
      "|KOOKMIN UNIVERSIT...|    5|\n",
      "|   EATON CORPORATION|    5|\n",
      "|TOYOTA JIDOSHA KA...|    5|\n",
      "|      WEFLEN, DARRYL|    5|\n",
      "|HEXAGON PURUS NOR...|    4|\n",
      "|  C.E. NIEHOFF & CO.|    4|\n",
      "|    LELY PATENT N.V.|    4|\n",
      "|     ECOTALITY, INC.|    4|\n",
      "|THUNDER POWER NEW...|    4|\n",
      "|TEREX SOUTH DAKOT...|    4|\n",
      "|SIEMENS AKTIENGES...|    4|\n",
      "|POLARIS INDUSTRIE...|    4|\n",
      "|    ELECTROVAYA INC.|    4|\n",
      "| WALMART APOLLO, LLC|    4|\n",
      "|ARTISAN VEHICLE S...|    3|\n",
      "|LG ENERGY SOLUTIO...|    3|\n",
      "|           PAICE LLC|    3|\n",
      "|CPS TECHNOLOGY HO...|    3|\n",
      "|      PREMERGY, INC.|    3|\n",
      "|    OX PARTNERS, LLC|    3|\n",
      "|    RADIO FLYER INC.|    3|\n",
      "|THE RAYMOND CORPO...|    3|\n",
      "|SHANGHAI DIANBA N...|    3|\n",
      "|  NIKOLA CORPORATION|    2|\n",
      "|KABUSHIKI KAISHA ...|    2|\n",
      "|       EZBOOSTR INC.|    2|\n",
      "|   LIGHTENING ENERGY|    2|\n",
      "|TECHNOLOGIES' XAN...|    2|\n",
      "|KABUSHIKI KAISHA ...|    2|\n",
      "|VECTRIX CORPORATI...|    2|\n",
      "|THE JOHNS HOPKINS...|    2|\n",
      "|AEROKINETIC ENERG...|    2|\n",
      "|R.A. PHILLIPS IND...|    2|\n",
      "|NEBULA CAR COMPAN...|    2|\n",
      "| DYNACRAFT BSC, INC.|    2|\n",
      "|SNOW, CHRISTOPHER E.|    2|\n",
      "|ADDENERGIE TECHNO...|    2|\n",
      "|             UMICORE|    2|\n",
      "|INTELLIGENT ELECT...|    2|\n",
      "|MATTEL, INC., ARK...|    2|\n",
      "|MEDATECH ENGINEER...|    2|\n",
      "|HANNA, MARK HOLBR...|    2|\n",
      "| AEROVIRONMENT, INC.|    2|\n",
      "|MICROHEAT TECHNOL...|    2|\n",
      "|      PRINOTH S.P.A.|    2|\n",
      "|         AMPLE, INC.|    2|\n",
      "|BOMBARDIER RECREA...|    2|\n",
      "| TOP KA-PROJEKT GMBH|    2|\n",
      "+--------------------+-----+\n",
      "only showing top 65 rows\n",
      "\n"
     ]
    }
   ],
   "source": [
    "spark.sql(\"\"\"\n",
    "    SELECT Owners, COUNT(*) AS count\n",
    "    FROM CNDpatents\n",
    "    GROUP BY Owners\n",
    "    HAVING count > 1\n",
    "    ORDER BY count DESC\n",
    "\"\"\").show(65)"
   ]
  },
  {
   "cell_type": "markdown",
   "id": "58aac092",
   "metadata": {},
   "source": [
    "### 10-Analyzing the field -Agent-"
   ]
  },
  {
   "cell_type": "code",
   "execution_count": 89,
   "id": "d3a794fd",
   "metadata": {},
   "outputs": [
    {
     "name": "stdout",
     "output_type": "stream",
     "text": [
      "+--------+-----+----------+------------------+------------------------------+------+-------+----+-------------+-----------+------------+---------+------+-------------------+------+------+-----+---+\n",
      "|Abstract|Agent|App_Number|Application_Number|Canadian_Patent_Classification|Claims|Country|Date|English_Title|Filled_Date|French_Title|Inventors|Issued|Language_of_Filling|Owners|Patent|Title|_id|\n",
      "+--------+-----+----------+------------------+------------------------------+------+-------+----+-------------+-----------+------------+---------+------+-------------------+------+------+-----+---+\n",
      "+--------+-----+----------+------------------+------------------------------+------+-------+----+-------------+-----------+------------+---------+------+-------------------+------+------+-----+---+\n",
      "\n"
     ]
    }
   ],
   "source": [
    "spark.sql(\"\"\" \n",
    "    SELECT *  FROM CNDpatents WHERE Agent IS NULL OR Agent=''\n",
    "\"\"\").show()"
   ]
  },
  {
   "cell_type": "code",
   "execution_count": 33,
   "id": "de1b41e4",
   "metadata": {},
   "outputs": [
    {
     "name": "stdout",
     "output_type": "stream",
     "text": [
      "+--------------------------------------------------------------------+-----+\n",
      "|Agent                                                               |count|\n",
      "+--------------------------------------------------------------------+-----+\n",
      "|SMART & BIGGAR LP                                                   |56   |\n",
      "|GOWLING WLG (CANADA) LLP                                            |39   |\n",
      "|BORDEN LADNER GERVAIS LLP                                           |36   |\n",
      "|MARKS & CLERK                                                       |24   |\n",
      "|FASKEN MARTINEAU DUMOULIN LLP                                       |17   |\n",
      "|LAVERY, DE BILLY, LLP                                               |17   |\n",
      "|BERESKIN & PARR LLP/S.E.N.C.R.L.,S.R.L.                             |16   |\n",
      "|DENNISON ASSOCIATES                                                 |15   |\n",
      "|NORTON ROSE FULBRIGHT CANADA LLP/S.E.N.C.R.L., S.R.L.               |15   |\n",
      "|OSLER, HOSKIN & HARCOURT LLP                                        |14   |\n",
      "|BRION RAFFOUL                                                       |13   |\n",
      "|FINLAYSON & SINGLEHURST                                             |11   |\n",
      "|AIRD & MCBURNEY LP                                                  |10   |\n",
      "|SMART & BIGGAR                                                      |10   |\n",
      "|RIDOUT & MAYBEE LLP                                                 |10   |\n",
      "|ROBIC AGENCE PI S.E.C./ROBIC IP AGENCY LP                           |9    |\n",
      "|SMART & BIGGAR LLP                                                  |9    |\n",
      "|BLAKE, CASSELS & GRAYDON LLP                                        |8    |\n",
      "|ROBIC                                                               |8    |\n",
      "|CASSAN MACLEAN IP AGENCY INC.                                       |8    |\n",
      "|OYEN WIGGS GREEN & MUTALA LLP                                       |7    |\n",
      "|RICHES, MCKENZIE & HERBERT LLP                                      |7    |\n",
      "|KIRBY EADES GALE BAKER                                              |7    |\n",
      "|DEETH WILLIAMS WALL LLP                                             |6    |\n",
      "|DALE & LESSMANN LLP                                                 |6    |\n",
      "|MACRAE & CO.                                                        |5    |\n",
      "|HAUGEN, J. JAY                                                      |5    |\n",
      "|NaN                                                                 |5    |\n",
      "|BCF LLP                                                             |5    |\n",
      "|WILSON LUE LLP                                                      |4    |\n",
      "|PERRY + CURRIER                                                     |4    |\n",
      "|GOWLING LAFLEUR HENDERSON LLP                                       |4    |\n",
      "|FETHERSTONHAUGH & CO.                                               |4    |\n",
      "|BENNETT JONES LLP                                                   |3    |\n",
      "|GOUDREAU GAGE DUBUC                                                 |3    |\n",
      "|MOFFAT & CO.                                                        |3    |\n",
      "|CASSAN MACLEAN                                                      |3    |\n",
      "|CPST INTELLECTUAL PROPERTY INC.                                     |3    |\n",
      "|EDWARD, VALERIE G.                                                  |2    |\n",
      "|CRAIG WILSON AND COMPANY                                            |2    |\n",
      "|ROWAND LLP                                                          |2    |\n",
      "|C6 PATENT GROUP INCORPORATED, OPERATING AS THE \"CARBON PATENT GROUP\"|2    |\n",
      "|SMART & BIGGAR IP AGENCY CO.                                        |2    |\n",
      "|PRAXIS                                                              |2    |\n",
      "|AVENTUM IP LAW LLP                                                  |2    |\n",
      "|ITIP CANADA, INC.                                                   |2    |\n",
      "|ANGLEHART ET AL.                                                    |2    |\n",
      "+--------------------------------------------------------------------+-----+\n",
      "\n"
     ]
    }
   ],
   "source": [
    "spark.sql(\"\"\"\n",
    "    SELECT Agent, COUNT(*) AS count\n",
    "    FROM CNDpatents\n",
    "    GROUP BY Agent\n",
    "    HAVING count > 1\n",
    "    ORDER BY count DESC\n",
    "\"\"\").show(65, False)"
   ]
  },
  {
   "cell_type": "markdown",
   "id": "38f7e530",
   "metadata": {},
   "source": [
    "### 11-Analyzing the field -Canadian Patent Classification-"
   ]
  },
  {
   "cell_type": "code",
   "execution_count": 34,
   "id": "b0d6a695",
   "metadata": {},
   "outputs": [
    {
     "name": "stdout",
     "output_type": "stream",
     "text": [
      "+--------+-----+----------+------------------+------------------------------+------+-------+----+-------------+-----------+------------+---------+------+-------------------+------+------+-----+---+\n",
      "|Abstract|Agent|App_Number|Application_Number|Canadian_Patent_Classification|Claims|Country|Date|English_Title|Filled_Date|French_Title|Inventors|Issued|Language_of_Filling|Owners|Patent|Title|_id|\n",
      "+--------+-----+----------+------------------+------------------------------+------+-------+----+-------------+-----------+------------+---------+------+-------------------+------+------+-----+---+\n",
      "+--------+-----+----------+------------------+------------------------------+------+-------+----+-------------+-----------+------------+---------+------+-------------------+------+------+-----+---+\n",
      "\n"
     ]
    }
   ],
   "source": [
    "spark.sql(\"\"\"\n",
    "    SELECT *  \n",
    "    FROM CNDpatents \n",
    "    WHERE Canadian_Patent_Classification IS NULL \n",
    "    OR Canadian_Patent_Classification = ''\n",
    "    OR Canadian_Patent_Classification = 'nan'\n",
    "\"\"\").show()"
   ]
  },
  {
   "cell_type": "code",
   "execution_count": 45,
   "id": "9507c285",
   "metadata": {},
   "outputs": [
    {
     "name": "stdout",
     "output_type": "stream",
     "text": [
      "+------------------------------+\n",
      "|Canadian_Patent_Classification|\n",
      "+------------------------------+\n",
      "|                      342/29.5|\n",
      "|                      342/29.5|\n",
      "+------------------------------+\n",
      "\n"
     ]
    }
   ],
   "source": [
    "spark.sql(\"\"\"\n",
    "    SELECT Canadian_Patent_Classification FROM CNDpatents WHERE Canadian_Patent_Classification != 'NaN'\n",
    "\"\"\").show()"
   ]
  }
 ],
 "metadata": {
  "kernelspec": {
   "display_name": "Python 3 (ipykernel)",
   "language": "python",
   "name": "python3"
  },
  "language_info": {
   "codemirror_mode": {
    "name": "ipython",
    "version": 3
   },
   "file_extension": ".py",
   "mimetype": "text/x-python",
   "name": "python",
   "nbconvert_exporter": "python",
   "pygments_lexer": "ipython3",
   "version": "3.9.13"
  }
 },
 "nbformat": 4,
 "nbformat_minor": 5
}
