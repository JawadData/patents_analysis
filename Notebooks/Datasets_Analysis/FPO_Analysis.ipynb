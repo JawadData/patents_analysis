{
 "cells": [
  {
   "cell_type": "code",
   "execution_count": 33,
   "id": "e8c8c199",
   "metadata": {},
   "outputs": [],
   "source": [
    "import pyspark\n",
    "from pyspark import SparkContext\n",
    "from pyspark.sql import SparkSession\n",
    "from pyspark.sql import SQLContext\n",
    "from pyspark.sql.functions import col, to_date, year\n",
    "from pyspark.sql.functions import split, array_distinct, concat_ws\n",
    "\n",
    "spark = SparkSession.builder \\\n",
    "    .appName(\"Patent\") \\\n",
    "    .config(\"spark.jars.packages\", \"org.mongodb.spark:mongo-spark-connector_2.12:3.0.0\") \\\n",
    "    .getOrCreate()\n"
   ]
  },
  {
   "cell_type": "code",
   "execution_count": null,
   "id": "364b6a66",
   "metadata": {},
   "outputs": [],
   "source": [
    "spark"
   ]
  },
  {
   "cell_type": "code",
   "execution_count": 35,
   "id": "0a3d1163",
   "metadata": {},
   "outputs": [],
   "source": [
    "\n",
    "df = spark.read.format(\"com.mongodb.spark.sql.DefaultSource\") \\\n",
    "    .option(\"database\", \"FPO_Patent\")\\\n",
    "    .option(\"collection\", \"FPO_DATA\")\\\n",
    "    .option(\"uri\", \"mongodb://127.0.0.1:27017/FPO_Patent.DATA\") \\\n",
    "    .option('inferSchema','true')\\\n",
    "    .load()\n"
   ]
  },
  {
   "cell_type": "code",
   "execution_count": null,
   "id": "b82e8602",
   "metadata": {},
   "outputs": [],
   "source": [
    "\n",
    "df.columns"
   ]
  },
  {
   "cell_type": "code",
   "execution_count": null,
   "id": "53f9e238",
   "metadata": {},
   "outputs": [],
   "source": [
    "df.printSchema()"
   ]
  },
  {
   "cell_type": "code",
   "execution_count": null,
   "id": "ff184010",
   "metadata": {},
   "outputs": [],
   "source": [
    "\n",
    "df.show(5)"
   ]
  },
  {
   "cell_type": "code",
   "execution_count": null,
   "id": "60abb3b3",
   "metadata": {},
   "outputs": [],
   "source": [
    "df.count()"
   ]
  },
  {
   "cell_type": "code",
   "execution_count": null,
   "id": "78144476",
   "metadata": {},
   "outputs": [],
   "source": [
    "\n",
    "df.select(['Title','Country']).show()\n"
   ]
  },
  {
   "cell_type": "markdown",
   "id": "4da3f594",
   "metadata": {},
   "source": [
    "# Cleaning\n"
   ]
  },
  {
   "cell_type": "code",
   "execution_count": null,
   "id": "ea82ee06",
   "metadata": {},
   "outputs": [],
   "source": [
    "import pandas as pd\n",
    "\n",
    "data = pd.read_csv(\"C:\\\\Users\\\\ADMIN\\Downloads\\\\projet\\patent_data_FPO (1).csv\")\n",
    "data.head()"
   ]
  },
  {
   "cell_type": "code",
   "execution_count": null,
   "id": "efb15eb3",
   "metadata": {},
   "outputs": [],
   "source": [
    "data.isna().sum()"
   ]
  },
  {
   "cell_type": "code",
   "execution_count": null,
   "id": "8a96e0e8",
   "metadata": {},
   "outputs": [],
   "source": [
    "data.duplicated().sum()"
   ]
  },
  {
   "cell_type": "code",
   "execution_count": null,
   "id": "037106f3",
   "metadata": {},
   "outputs": [],
   "source": [
    "duplicate_rows_count = df.count() - df.distinct().count() \n",
    "print(duplicate_rows_count)\n"
   ]
  },
  {
   "cell_type": "code",
   "execution_count": null,
   "id": "90fecae8",
   "metadata": {},
   "outputs": [],
   "source": [
    "data=data.to_csv(\"patent_data_FPO.csv\", index=False)"
   ]
  },
  {
   "cell_type": "markdown",
   "id": "1cf3668c",
   "metadata": {},
   "source": [
    "# EDA\n"
   ]
  },
  {
   "cell_type": "code",
   "execution_count": 45,
   "id": "03a33f20",
   "metadata": {},
   "outputs": [],
   "source": [
    "from pyspark.sql import SparkSession\n",
    "from pyspark.sql import SQLContext\n",
    "\n",
    "df.createOrReplaceTempView(\"patents\")"
   ]
  },
  {
   "cell_type": "markdown",
   "id": "807072f8",
   "metadata": {},
   "source": [
    "### 1- Count the number of patents by country:"
   ]
  },
  {
   "cell_type": "code",
   "execution_count": null,
   "id": "6f84c1b5",
   "metadata": {},
   "outputs": [],
   "source": [
    "patent_counts_by_country = df.groupBy('Country').count()\n",
    "patent_counts_by_country.show()\n"
   ]
  },
  {
   "cell_type": "code",
   "execution_count": null,
   "id": "ef2757c0",
   "metadata": {},
   "outputs": [],
   "source": [
    "patent_counts_by_country_sql = spark.sql(\"\"\"\n",
    "    SELECT Country, COUNT(*) AS Patent_Count\n",
    "    FROM patents\n",
    "    GROUP BY Country\n",
    "    ORDER BY Patent_Count DESC\n",
    "\"\"\")\n",
    "patent_counts_by_country_sql.show()"
   ]
  },
  {
   "cell_type": "markdown",
   "id": "5582676d",
   "metadata": {},
   "source": [
    "### 2- Find the most common inventors:"
   ]
  },
  {
   "cell_type": "markdown",
   "id": "1c4250e3",
   "metadata": {},
   "source": [
    "#### *count the number of patents per inventor, treating each inventor individually."
   ]
  },
  {
   "cell_type": "code",
   "execution_count": null,
   "id": "1b7ca5dc",
   "metadata": {},
   "outputs": [],
   "source": [
    "from pyspark.sql.functions import regexp_extract, expr\n",
    "from pyspark.sql.functions import split, explode, count\n",
    "\n",
    "\n",
    "exploded_inventors = df.withColumn(\"Inventor\", explode(split(df['Inventors'], ', ')))\n",
    "\n",
    "patents_per_inventor = exploded_inventors.groupBy(\"Inventor\").agg(count(\"Patent Number\").alias(\"Number of Patents\"))\n",
    "patents_per_inventor.show()"
   ]
  },
  {
   "cell_type": "code",
   "execution_count": null,
   "id": "662e436d",
   "metadata": {},
   "outputs": [],
   "source": [
    "import seaborn as sns\n",
    "import matplotlib.pyplot as plt\n",
    "\n",
    "patents_per_inventor = spark.sql(\"\"\"\n",
    "    SELECT inventor, COUNT(*) AS num_patents\n",
    "    FROM (\n",
    "        SELECT explode(split(Inventors, ', ')) AS inventor\n",
    "        FROM patents\n",
    "    )\n",
    "    GROUP BY inventor\n",
    "    ORDER BY num_patents DESC\n",
    "\"\"\")\n",
    "\n",
    "patents_per_inventor.show()\n"
   ]
  },
  {
   "cell_type": "markdown",
   "id": "14f8b043",
   "metadata": {},
   "source": [
    "#### *count the number of patents per inventor"
   ]
  },
  {
   "cell_type": "code",
   "execution_count": null,
   "id": "cca47e2d",
   "metadata": {},
   "outputs": [],
   "source": [
    "patent_counts_by_inventory = df.groupBy('Inventors').count().orderBy('count', ascending=False)\n",
    "patent_counts_by_inventory.show()\n"
   ]
  },
  {
   "cell_type": "markdown",
   "id": "65b6d961",
   "metadata": {},
   "source": [
    "### 3- Get the number of patents published each year:"
   ]
  },
  {
   "cell_type": "code",
   "execution_count": null,
   "id": "f80f3301",
   "metadata": {},
   "outputs": [],
   "source": [
    "from pyspark.sql.functions import year\n",
    "\n",
    "df_year = df.withColumn('Publication_Year', year(to_date(df['Publication Date'], 'MM/dd/yyyy')))\n",
    "patents_per_year = df_year.groupBy('Publication_Year').count().orderBy('Publication_Year',ascending=False)\n",
    "patents_per_year.show()"
   ]
  },
  {
   "cell_type": "code",
   "execution_count": null,
   "id": "fa268af1",
   "metadata": {},
   "outputs": [],
   "source": [
    "import pandas as pd\n",
    "import matplotlib.pyplot as plt\n",
    "import seaborn as sns\n",
    "\n",
    "\n",
    "patents_year_df = patents_per_year.toPandas().sort_values(by='Publication_Year', ascending=True)\n",
    "sns.barplot(x='Publication_Year', y='count', data=patents_year_df)\n",
    "plt.xticks(rotation=90, fontsize=7)  \n",
    "plt.show()\n"
   ]
  },
  {
   "cell_type": "markdown",
   "id": "f86ec2b9",
   "metadata": {},
   "source": [
    "### 4- Find the top assignees (companies) with the most patents:\n"
   ]
  },
  {
   "cell_type": "code",
   "execution_count": null,
   "id": "57525263",
   "metadata": {},
   "outputs": [],
   "source": [
    "assignee_counts = df.groupBy('Assignee').count().orderBy('count', ascending=False)\n",
    "assignee_counts.show()"
   ]
  },
  {
   "cell_type": "code",
   "execution_count": null,
   "id": "3b18ca7d",
   "metadata": {},
   "outputs": [],
   "source": [
    "patents_assignees_df=assignee_counts.toPandas()\n",
    "patents_assignees_df = patents_assignees_df.sort_values(by='count', ascending=False)\n",
    "\n",
    "patents_assignees_top10 = patents_assignees_df.head(10)\n",
    "sns.barplot(x='Assignee', y='count', data=patents_assignees_top10)\n",
    "plt.xlabel('Assignee')\n",
    "plt.ylabel('Count')\n",
    "plt.xticks(rotation=90)  \n",
    "plt.show()"
   ]
  },
  {
   "cell_type": "markdown",
   "id": "5dc58325",
   "metadata": {},
   "source": [
    "### 5- Find patents with specific keywords in the title"
   ]
  },
  {
   "cell_type": "code",
   "execution_count": null,
   "id": "1a43197d",
   "metadata": {},
   "outputs": [],
   "source": [
    "specific_keywords_title = spark.sql(\"\"\"\n",
    "    SELECT *\n",
    "    FROM patents\n",
    "    WHERE LOWER(Title) LIKE '%electric vehicle battery%'\n",
    "\"\"\")\n",
    "\n",
    "specific_keywords_title.show()\n"
   ]
  },
  {
   "cell_type": "markdown",
   "id": "0627694f",
   "metadata": {},
   "source": [
    "### 6-visualize the number of patents with \"Electric Vehicle Battery\" in the title by year"
   ]
  },
  {
   "cell_type": "code",
   "execution_count": null,
   "id": "b75ca97f",
   "metadata": {},
   "outputs": [],
   "source": [
    "specific_keywords_title = spark.sql(\"\"\"\n",
    "    SELECT YEAR(to_date(`Publication Date`, 'MM/dd/yyyy')) AS Publication_Year, COUNT(*) AS Patent_Count\n",
    "    FROM patents\n",
    "    WHERE LOWER(Title) LIKE '%electric vehicle battery%'\n",
    "    GROUP BY Publication_Year\n",
    "    ORDER BY Publication_Year\n",
    "\"\"\")\n",
    "\n",
    "specific_keywords_title_df = specific_keywords_title.toPandas()\n",
    "\n",
    "plt.figure(figsize=(10, 6))\n",
    "plt.plot(specific_keywords_title_df['Publication_Year'], specific_keywords_title_df['Patent_Count'], marker='o')\n",
    "plt.xlabel('Publication Year')\n",
    "plt.ylabel('Number of Patents')\n",
    "plt.title('Number of Patents with \"Electric Vehicle Battery\" in Title by Year')\n",
    "plt.xticks(rotation=45)\n",
    "plt.grid(True)\n",
    "plt.tight_layout()\n",
    "plt.show()\n"
   ]
  },
  {
   "cell_type": "markdown",
   "id": "7d31dbaf",
   "metadata": {},
   "source": [
    "### 7-The most common keywords/terms used in the title of patents"
   ]
  },
  {
   "cell_type": "code",
   "execution_count": null,
   "id": "cf76005d",
   "metadata": {},
   "outputs": [],
   "source": [
    "from pyspark.sql.functions import split, explode, lower, regexp_replace, col, collect_list\n",
    "from pyspark.ml.feature import StopWordsRemover\n",
    "import warnings\n",
    "warnings.filterwarnings(\"ignore\")\n",
    "\n",
    "df_keywords = df.withColumn(\"Title\", lower(col(\"Title\"))) \\\n",
    "                .withColumn(\"Title\", regexp_replace(col(\"Title\"), \"[^a-zA-Z\\s]\", \"\")) \\\n",
    "                .withColumn(\"TitleWords\", split(col(\"Title\"), \" \"))\n",
    "df_keywords = df_keywords.withColumn(\"Keyword\", explode(col(\"TitleWords\")))\n",
    "\n",
    "df_grouped = df_keywords.groupBy(\"Patent Number\").agg(collect_list(\"Keyword\").alias(\"Keywords\"))\n",
    "\n",
    "remover = StopWordsRemover(inputCol=\"Keywords\", outputCol=\"CleanKeywords\")\n",
    "df_cleaned = remover.transform(df_grouped).select(\"CleanKeywords\")\n",
    "df_cleaned = df_cleaned.withColumn(\"CleanKeyword\", explode(col(\"CleanKeywords\")))\n",
    "keyword_counts = df_cleaned.groupBy(\"CleanKeyword\").count()\n",
    "\n",
    "top_keywords = keyword_counts.orderBy(keyword_counts[\"count\"].desc()).limit(20)\n",
    "top_keywords.show()\n",
    "\n",
    "\n"
   ]
  },
  {
   "cell_type": "code",
   "execution_count": null,
   "id": "be6521f1",
   "metadata": {},
   "outputs": [],
   "source": [
    "import matplotlib.pyplot as plt\n",
    "\n",
    "top_keywords_df = top_keywords.toPandas()\n",
    "\n",
    "plt.figure(figsize=(10, 6))\n",
    "plt.bar(top_keywords_df['CleanKeyword'], top_keywords_df['count'])\n",
    "plt.xlabel('Keyword')\n",
    "plt.ylabel('Frequency')\n",
    "plt.title('Top Keywords in Patent Titles')\n",
    "plt.xticks(rotation=45, ha='right')\n",
    "plt.tight_layout()\n",
    "plt.show()\n"
   ]
  },
  {
   "cell_type": "markdown",
   "id": "d017a003",
   "metadata": {},
   "source": [
    "### 7-The most common keywords/terms used in the summary of patents\n"
   ]
  },
  {
   "cell_type": "code",
   "execution_count": null,
   "id": "dc55e1ba",
   "metadata": {},
   "outputs": [],
   "source": [
    "from pyspark.sql.functions import split, explode, lower, regexp_replace, col, collect_list\n",
    "from pyspark.ml.feature import StopWordsRemover\n",
    "\n",
    "df_summary_keywords = df.withColumn(\"Summary\", lower(col(\"Summary\"))) \\\n",
    "                        .withColumn(\"Summary\", regexp_replace(col(\"Summary\"), \"[^a-zA-Z\\s]\", \"\")) \\\n",
    "                        .withColumn(\"SummaryWords\", split(col(\"Summary\"), \" \"))\n",
    "df_summary_keywords = df_summary_keywords.withColumn(\"Keyword\", explode(col(\"SummaryWords\")))\n",
    "df_grouped_summary = df_summary_keywords.groupBy(\"Patent Number\").agg(collect_list(\"Keyword\").alias(\"SummaryKeywords\"))\n",
    "remover_summary = StopWordsRemover(inputCol=\"SummaryKeywords\", outputCol=\"CleanSummaryKeywords\")\n",
    "df_cleaned_summary = remover_summary.transform(df_grouped_summary).select(\"CleanSummaryKeywords\")\n",
    "df_cleaned_summary = df_cleaned_summary.withColumn(\"CleanSummaryKeyword\", explode(col(\"CleanSummaryKeywords\")))\n",
    "keyword_counts_summary = df_cleaned_summary.groupBy(\"CleanSummaryKeyword\").count()\n",
    "top_keywords_summary = keyword_counts_summary.orderBy(keyword_counts_summary[\"count\"].desc()).limit(20)\n",
    "top_keywords_summary.show()\n"
   ]
  },
  {
   "cell_type": "code",
   "execution_count": null,
   "id": "c47082b2",
   "metadata": {},
   "outputs": [],
   "source": [
    "from pyspark.sql import SparkSession\n",
    "import matplotlib.pyplot as plt\n",
    "from wordcloud import WordCloud\n",
    "\n",
    "top_keywords_summary_df = top_keywords_summary.toPandas()\n",
    "\n",
    "word_freq_dict = dict(zip(top_keywords_summary_df['CleanSummaryKeyword'], top_keywords_summary_df['count']))\n",
    "\n",
    "wordcloud = WordCloud(width=800, height=400, background_color='white').generate_from_frequencies(word_freq_dict)\n",
    "\n",
    "plt.figure(figsize=(30, 30))\n",
    "plt.imshow(wordcloud, interpolation='bilinear')\n",
    "plt.axis('off')\n",
    "plt.title('Word Cloud of Top Keywords in Summary')\n",
    "plt.show()\n"
   ]
  }
 ],
 "metadata": {
  "kernelspec": {
   "display_name": "Python 3",
   "language": "python",
   "name": "python3"
  },
  "language_info": {
   "codemirror_mode": {
    "name": "ipython",
    "version": 3
   },
   "file_extension": ".py",
   "mimetype": "text/x-python",
   "name": "python",
   "nbconvert_exporter": "python",
   "pygments_lexer": "ipython3",
   "version": "3.10.9"
  }
 },
 "nbformat": 4,
 "nbformat_minor": 5
}
