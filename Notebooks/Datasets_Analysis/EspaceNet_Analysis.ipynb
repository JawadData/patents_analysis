{
 "cells": [
  {
   "cell_type": "markdown",
   "metadata": {},
   "source": [
    "# Patent Analysis : ESPACENET\n",
    "***"
   ]
  },
  {
   "cell_type": "markdown",
   "metadata": {},
   "source": [
    "### Basic Analysis \n",
    "- *Count the nomber of unique applicants* \n",
    "- *Count the number of unique inventors*\n",
    "- *Number of application per year*\n",
    "- *Distribution of patents per country*\n",
    "### Temporal Analysis\n",
    "- *Observe the patent Distribution over publication date*\n",
    "- *Observe the patent Distribution over application date*\n",
    "### Geographical Analysis\n",
    "- *distribution of applicants and inventors around the world*\n",
    "- *Collaboration network between the inventors*\n",
    "### Text Analysis : NLP\n",
    "- *Extract the language from the abstract*\n",
    "- *Analyse the abstract (extract key words)*\n",
    "- *Cluster patents into groups based on their abstract similarities.*"
   ]
  },
  {
   "cell_type": "markdown",
   "metadata": {},
   "source": [
    "## 0- Libraries"
   ]
  },
  {
   "cell_type": "code",
   "execution_count": 64,
   "metadata": {},
   "outputs": [],
   "source": [
    "\n",
    "import pyspark\n",
    "from pyspark.sql import SparkSession, SQLContext\n",
    "from pyspark.sql.functions import col, to_date, year, split, array_distinct, concat_ws, explode, lit\n",
    "\n",
    "\n",
    "import nltk\n",
    "from nltk.corpus import stopwords \n",
    "from nltk.tokenize import word_tokenize\n",
    "from nltk.probability import FreqDist\n",
    "\n",
    "\n",
    "from langdetect import detect\n",
    "from collections import Counter\n",
    "from translate import Translator\n",
    "\n",
    "import seaborn as sns\n",
    "import matplotlib.pyplot as plt\n",
    "from wordcloud import WordCloud"
   ]
  },
  {
   "cell_type": "markdown",
   "metadata": {},
   "source": [
    "## 1 - Importing and Preprocessing the data from mongoDB"
   ]
  },
  {
   "cell_type": "code",
   "execution_count": null,
   "metadata": {},
   "outputs": [],
   "source": [
    "print(pyspark.__version__)"
   ]
  },
  {
   "cell_type": "code",
   "execution_count": null,
   "metadata": {},
   "outputs": [],
   "source": [
    "spark = SparkSession.builder \\\n",
    "    .appName(\"PatentAnalysis\") \\\n",
    "    .config(\"spark.jars.packages\", \"org.mongodb.spark:mongo-spark-connector_2.12:3.0.0\") \\\n",
    "    .getOrCreate()"
   ]
  },
  {
   "cell_type": "code",
   "execution_count": null,
   "metadata": {},
   "outputs": [],
   "source": [
    "\n",
    "mongo_ip = \"mongodb://127.0.0.1:27017/\"\n",
    "db_name = \"espacenet_patent\" \n",
    "collection_name = \"espacenet_data\"  \n",
    "\n",
    "df = spark.read.format(\"com.mongodb.spark.sql.DefaultSource\") \\\n",
    "    .option(\"uri\", mongo_ip + db_name + \".\" + collection_name) \\\n",
    "    .load()\n",
    "\n",
    "df.printSchema()"
   ]
  },
  {
   "cell_type": "markdown",
   "metadata": {},
   "source": [
    "### II - Preprocessing the data"
   ]
  },
  {
   "cell_type": "code",
   "execution_count": 6,
   "metadata": {},
   "outputs": [],
   "source": [
    "\n",
    "df = df.withColumn(\"Date_publication\", to_date(col(\"Date__publication\"), \"yyyy-MM-dd\"))"
   ]
  },
  {
   "cell_type": "code",
   "execution_count": 7,
   "metadata": {},
   "outputs": [],
   "source": [
    "df = df.withColumn(\"Date_application\", to_date(col(\"Date_Application\"), \"yyyy-MM-dd\"))"
   ]
  },
  {
   "cell_type": "code",
   "execution_count": null,
   "metadata": {},
   "outputs": [],
   "source": [
    "\n",
    "df_split = df.withColumn(\"Inventors_country_split\", split(df[\"Inventors_country\"], \" & \"))\n",
    "df_cleaned = df_split.withColumn(\"Inventors_country_cleaned\", array_distinct(\"Inventors_country_split\"))\n",
    "df_cleaned = df_cleaned.withColumn(\"Inventors_country\", concat_ws(\" & \", \"Inventors_country_cleaned\"))\n",
    "df = df_cleaned.drop(\"Inventors_country_split\", \"Inventors_country_cleaned\")\n",
    "df.show()\n"
   ]
  },
  {
   "cell_type": "code",
   "execution_count": null,
   "metadata": {},
   "outputs": [],
   "source": [
    "\n",
    "df_split = df.withColumn(\"Applicants_country_split\", split(df[\"Applicants_country\"], \" & \"))\n",
    "df_cleaned = df_split.withColumn(\"Applicants_country_cleaned\", array_distinct(\"Applicants_country_split\"))\n",
    "df_cleaned = df_cleaned.withColumn(\"Applicants_country\", concat_ws(\" & \", \"Applicants_country_cleaned\"))\n",
    "df = df_cleaned.drop(\"Applicants_country_split\", \"Applicants_country_cleaned\")\n",
    "df.show()"
   ]
  },
  {
   "cell_type": "code",
   "execution_count": null,
   "metadata": {},
   "outputs": [],
   "source": [
    "data = df.toPandas()\n",
    "\n",
    "for column in data.columns:\n",
    "    data[f'{column}'] = data[f'{column}'].replace({'': 'NULL', ' ': 'NULL'})"
   ]
  },
  {
   "cell_type": "code",
   "execution_count": 11,
   "metadata": {},
   "outputs": [],
   "source": [
    "df= spark.createDataFrame(data)"
   ]
  },
  {
   "cell_type": "code",
   "execution_count": null,
   "metadata": {},
   "outputs": [],
   "source": [
    "df.describe().show()"
   ]
  },
  {
   "cell_type": "code",
   "execution_count": 13,
   "metadata": {},
   "outputs": [],
   "source": [
    "df.createOrReplaceTempView(\"patent_data\")"
   ]
  },
  {
   "cell_type": "code",
   "execution_count": null,
   "metadata": {},
   "outputs": [],
   "source": [
    "spark.sql(\"SELECT * FROM patent_data\").show(50)"
   ]
  },
  {
   "cell_type": "markdown",
   "metadata": {},
   "source": [
    "## 2 -  Basic Analysis"
   ]
  },
  {
   "cell_type": "markdown",
   "metadata": {},
   "source": [
    "###  1. Count the nomber of unique applicants and Inventors "
   ]
  },
  {
   "cell_type": "code",
   "execution_count": null,
   "metadata": {},
   "outputs": [],
   "source": [
    "table = spark.sql(\"select distinct(Applicants) from patent_data\")\n",
    "print(f\"Nomber of unique Applicants {table.count()}\")\n",
    "table.show()"
   ]
  },
  {
   "cell_type": "code",
   "execution_count": null,
   "metadata": {},
   "outputs": [],
   "source": [
    "table = spark.sql(\"select distinct(Inventors) from patent_data\")\n",
    "print(f\"Nomber of unique Inventors {table.count()}\")\n",
    "table.show()"
   ]
  },
  {
   "cell_type": "markdown",
   "metadata": {},
   "source": [
    "### 2. Nombre of patent invented (applicated) by each inventor (Applicant)"
   ]
  },
  {
   "cell_type": "code",
   "execution_count": null,
   "metadata": {},
   "outputs": [],
   "source": [
    "table = spark.sql(\"select Applicants, count(Applicants) as nomber_patent from patent_data GROUP BY Applicants ORDER BY nomber_patent DESC\")\n",
    "table.show()"
   ]
  },
  {
   "cell_type": "code",
   "execution_count": null,
   "metadata": {},
   "outputs": [],
   "source": [
    "table = spark.sql(\"select Inventors, count(Inventors) as nomber_patent from patent_data GROUP BY Inventors ORDER BY nomber_patent DESC\")\n",
    "table.show()"
   ]
  },
  {
   "cell_type": "markdown",
   "metadata": {},
   "source": [
    "### 3. Number of patent per country"
   ]
  },
  {
   "cell_type": "code",
   "execution_count": null,
   "metadata": {},
   "outputs": [],
   "source": [
    "table = spark.sql(\"select count(*) as number_patent, Inventors_country  from patent_data GROUP BY Inventors_country ORDER BY number_patent DESC\")\n",
    "table.show()"
   ]
  },
  {
   "cell_type": "code",
   "execution_count": null,
   "metadata": {},
   "outputs": [],
   "source": [
    "pd_table = table.toPandas()\n",
    "plt.figure(figsize=(10, 4))\n",
    "sns.barplot(x='Inventors_country', y='number_patent', data=pd_table, color='darkred')\n",
    "plt.title('Number of patent by inventors country')\n",
    "plt.xlabel('Inventors country')\n",
    "plt.ylabel('number patent')\n",
    "plt.xticks(rotation=45)\n",
    "plt.tight_layout()\n",
    "plt.show()"
   ]
  },
  {
   "cell_type": "markdown",
   "metadata": {},
   "source": [
    "## 3 - Temporal Analysis"
   ]
  },
  {
   "cell_type": "markdown",
   "metadata": {},
   "source": [
    "### 1. Patent distribution per year"
   ]
  },
  {
   "cell_type": "code",
   "execution_count": null,
   "metadata": {},
   "outputs": [],
   "source": [
    "df_year = df.withColumn(\"Date_publication\", year(col(\"Date_publication\")))\n",
    "year_table = df_year.createOrReplaceTempView(\"year_table\")\n",
    "table = spark.sql(\"select count(*) as number_patent, Date_publication  from year_table GROUP BY Date_publication ORDER BY number_patent DESC\")\n",
    "table.show()"
   ]
  },
  {
   "cell_type": "code",
   "execution_count": null,
   "metadata": {},
   "outputs": [],
   "source": [
    "pd_table = table.toPandas()\n",
    "plt.figure(figsize=(8, 4))\n",
    "sns.lineplot(x='Date_publication', y='number_patent', data=pd_table, color='darkred')\n",
    "plt.title('Number of Patents by Publication Date')\n",
    "plt.xlabel('Publication Date')\n",
    "plt.ylabel('Number of Patents')\n",
    "plt.xticks(rotation=45)\n",
    "plt.tight_layout()\n",
    "plt.show()"
   ]
  },
  {
   "cell_type": "markdown",
   "metadata": {},
   "source": [
    "## 4 - Geographical Analysis"
   ]
  },
  {
   "cell_type": "markdown",
   "metadata": {},
   "source": [
    "### 1. distribution of applicants and inventors around the world"
   ]
  },
  {
   "cell_type": "code",
   "execution_count": null,
   "metadata": {},
   "outputs": [],
   "source": [
    "df_applicants_country = df.withColumn(\"applicants_country\", explode(split(col(\"applicants_country\"), \" & \")))\n",
    "applicants_country_count = df_applicants_country.groupBy(\"applicants_country\").count()\n",
    "applicants_country_count.show()"
   ]
  },
  {
   "cell_type": "code",
   "execution_count": null,
   "metadata": {},
   "outputs": [],
   "source": [
    "pd_table = applicants_country_count.toPandas()\n",
    "\n",
    "plt.figure(figsize=(8, 4))\n",
    "sns.barplot(x='applicants_country', y='count', data=pd_table, color='darkred')\n",
    "plt.title('Number of Applicants by country')\n",
    "plt.xlabel('Applicants country')\n",
    "plt.ylabel('Count')\n",
    "plt.xticks(rotation=45)\n",
    "plt.tight_layout()\n",
    "plt.show()"
   ]
  },
  {
   "cell_type": "code",
   "execution_count": null,
   "metadata": {},
   "outputs": [],
   "source": [
    "df_inventors_country = df.withColumn(\"inventors_country\", explode(split(col(\"inventors_country\"), \" & \")))\n",
    "inventors_country_count = df_inventors_country.groupBy(\"inventors_country\").count()\n",
    "inventors_country_count.show()"
   ]
  },
  {
   "cell_type": "code",
   "execution_count": null,
   "metadata": {},
   "outputs": [],
   "source": [
    "pd_table = inventors_country_count.toPandas()\n",
    "\n",
    "plt.figure(figsize=(8, 4))\n",
    "sns.barplot(x='inventors_country', y='count', data=pd_table, color='darkred')\n",
    "plt.title('Number of inventors by country')\n",
    "plt.xlabel('inventors country')\n",
    "plt.ylabel('Count')\n",
    "plt.xticks(rotation=45)\n",
    "plt.tight_layout()\n",
    "plt.show()"
   ]
  },
  {
   "cell_type": "markdown",
   "metadata": {},
   "source": [
    "### 2. Collaboration network between the inventors"
   ]
  },
  {
   "cell_type": "code",
   "execution_count": null,
   "metadata": {},
   "outputs": [],
   "source": [
    "df_collaborations = df.filter(col(\"Inventors_country\").contains(\"&\"))\n",
    "collaborations_count = df_collaborations.groupBy(\"inventors_country\").count()\n",
    "collaborations_count.show()"
   ]
  },
  {
   "cell_type": "code",
   "execution_count": null,
   "metadata": {},
   "outputs": [],
   "source": [
    "df_collaborations = df.filter(col(\"Applicants_country\").contains(\"&\"))\n",
    "collaborations_count = df_collaborations.groupBy(\"Applicants_country\").count()\n",
    "collaborations_count.show()"
   ]
  },
  {
   "cell_type": "markdown",
   "metadata": {},
   "source": [
    "## 5 - Text Analysis"
   ]
  },
  {
   "cell_type": "markdown",
   "metadata": {},
   "source": [
    "### 1. Extract Language from the abstract"
   ]
  },
  {
   "cell_type": "code",
   "execution_count": 29,
   "metadata": {},
   "outputs": [],
   "source": [
    "\n",
    "pd_data = df.toPandas()"
   ]
  },
  {
   "cell_type": "code",
   "execution_count": null,
   "metadata": {},
   "outputs": [],
   "source": [
    "languages = {}\n",
    "for index, abstract in enumerate(pd_data[\"Patent_abstract\"]):\n",
    "\n",
    "    detected_language = detect(abstract)\n",
    "    languages[f\"Abstract {index}\"] = detected_language\n",
    "\n",
    "language_counts = Counter(languages.values())\n",
    "\n",
    "print(\"Language Counts: \")\n",
    "for language, counts in language_counts.items():\n",
    "    print(f\"Language : {language} -> {counts}\")"
   ]
  },
  {
   "cell_type": "code",
   "execution_count": null,
   "metadata": {},
   "outputs": [],
   "source": [
    "plt.figure(figsize=(10, 10))\n",
    "plt.pie(list(language_counts.values()), labels=list(language_counts.keys()), autopct='%1.1f%%', startangle=140)\n",
    "plt.title('Language Distribution of Patent Abstracts \\n')\n",
    "plt.axis('equal') \n",
    "plt.show()"
   ]
  },
  {
   "cell_type": "markdown",
   "metadata": {},
   "source": [
    "### 2. Extract key words from the abstract"
   ]
  },
  {
   "cell_type": "markdown",
   "metadata": {},
   "source": [
    "### 3. Translate the Patent Abstract to English"
   ]
  },
  {
   "cell_type": "code",
   "execution_count": null,
   "metadata": {},
   "outputs": [],
   "source": [
    "for index, abstract in enumerate(pd_data[\"Patent_abstract\"]):\n",
    "    detected_language = detect(abstract)\n",
    "\n",
    "    if detected_language != 'en':\n",
    "        \n",
    "        translator= Translator(to_lang=\"English\")\n",
    "        translation = translator.translate(abstract)\n",
    "   \n",
    "        print(f\"---------- Translated Abstract {index} ----------\")\n",
    "        print(translation.text)\n"
   ]
  },
  {
   "cell_type": "markdown",
   "metadata": {},
   "source": [
    "### 3. Ploting the WordCloud"
   ]
  },
  {
   "cell_type": "code",
   "execution_count": null,
   "metadata": {},
   "outputs": [],
   "source": [
    "\n",
    "all_abstracts = ' '.join(pd_data[\"Patent_abstract\"])\n",
    "wordcloud = WordCloud(width=800, height=400, background_color='white', colormap='plasma').generate(all_abstracts)\n",
    "\n",
    "plt.figure(figsize=(10, 8))\n",
    "plt.imshow(wordcloud, interpolation='bilinear')\n",
    "plt.title('Word Cloud of Patent Abstracts')\n",
    "plt.axis('off')\n",
    "plt.show()\n"
   ]
  },
  {
   "cell_type": "markdown",
   "metadata": {},
   "source": [
    "**Big Data With Spark**\n",
    "****\n",
    "*NoteBook* : Analyzing the patent's metadata scraped from espacenet using pySpark"
   ]
  }
 ],
 "metadata": {
  "kernelspec": {
   "display_name": "Python 3",
   "language": "python",
   "name": "python3"
  },
  "language_info": {
   "codemirror_mode": {
    "name": "ipython",
    "version": 3
   },
   "file_extension": ".py",
   "mimetype": "text/x-python",
   "name": "python",
   "nbconvert_exporter": "python",
   "pygments_lexer": "ipython3",
   "version": "3.10.9"
  }
 },
 "nbformat": 4,
 "nbformat_minor": 4
}
